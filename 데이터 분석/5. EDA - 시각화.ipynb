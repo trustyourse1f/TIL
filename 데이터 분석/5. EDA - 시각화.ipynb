{
 "cells": [
  {
   "cell_type": "code",
   "execution_count": 1,
   "id": "0722cad3",
   "metadata": {},
   "outputs": [],
   "source": [
    "import pandas as pd\n",
    "\n",
    "bike_data = pd.read_csv('bike_usage_0.csv', encoding = 'ANSI')\n",
    "stations = pd.read_csv('stations.csv')"
   ]
  },
  {
   "cell_type": "code",
   "execution_count": 2,
   "id": "f08de62a",
   "metadata": {
    "scrolled": true
   },
   "outputs": [
    {
     "name": "stdout",
     "output_type": "stream",
     "text": [
      "<class 'pandas.core.frame.DataFrame'>\n",
      "RangeIndex: 36595 entries, 0 to 36594\n",
      "Data columns (total 15 columns):\n",
      " #   Column           Non-Null Count  Dtype \n",
      "---  ------           --------------  ----- \n",
      " 0   Date_out         36595 non-null  object\n",
      " 1   Time_out         36595 non-null  int64 \n",
      " 2   Station_no_out   36595 non-null  int64 \n",
      " 3   Station_out      36595 non-null  object\n",
      " 4   Membership_type  36595 non-null  object\n",
      " 5   Gender           18262 non-null  object\n",
      " 6   Age_Group        36595 non-null  object\n",
      " 7   Momentum         36595 non-null  object\n",
      " 8   Station_no_in    36595 non-null  int64 \n",
      " 9   Station_in       36595 non-null  object\n",
      " 10  Date_in          36595 non-null  object\n",
      " 11  Bike_no          36595 non-null  object\n",
      " 12  Carbon_amount    36595 non-null  object\n",
      " 13  Distance         36595 non-null  int64 \n",
      " 14  Duration         36595 non-null  int64 \n",
      "dtypes: int64(5), object(10)\n",
      "memory usage: 4.2+ MB\n"
     ]
    }
   ],
   "source": [
    "bike_data.info()"
   ]
  },
  {
   "cell_type": "code",
   "execution_count": 3,
   "id": "ce2c0be6",
   "metadata": {},
   "outputs": [
    {
     "data": {
      "text/plain": [
       "array([nan, 'M', 'F', 'm', 'f'], dtype=object)"
      ]
     },
     "execution_count": 3,
     "metadata": {},
     "output_type": "execute_result"
    }
   ],
   "source": [
    "bike_data.Gender.unique()"
   ]
  },
  {
   "cell_type": "code",
   "execution_count": 4,
   "id": "4ae280a4",
   "metadata": {
    "scrolled": true
   },
   "outputs": [
    {
     "data": {
      "text/plain": [
       "0         True\n",
       "1         True\n",
       "2         True\n",
       "3         True\n",
       "4         True\n",
       "         ...  \n",
       "36590    False\n",
       "36591    False\n",
       "36592    False\n",
       "36593    False\n",
       "36594     True\n",
       "Name: Gender, Length: 36595, dtype: bool"
      ]
     },
     "execution_count": 4,
     "metadata": {},
     "output_type": "execute_result"
    }
   ],
   "source": [
    "bike_data.Gender.isnull()"
   ]
  },
  {
   "cell_type": "code",
   "execution_count": 5,
   "id": "c3063521",
   "metadata": {},
   "outputs": [],
   "source": [
    "    bike_data.loc[bike_data.Gender.isnull(), 'Gender'] = 'U'"
   ]
  },
  {
   "cell_type": "code",
   "execution_count": 9,
   "id": "0df48903",
   "metadata": {},
   "outputs": [
    {
     "data": {
      "text/plain": [
       "0"
      ]
     },
     "execution_count": 9,
     "metadata": {},
     "output_type": "execute_result"
    }
   ],
   "source": [
    "bike_data.Gender.isnull().sum()"
   ]
  },
  {
   "cell_type": "code",
   "execution_count": 6,
   "id": "9c8c5860",
   "metadata": {},
   "outputs": [],
   "source": [
    "bike_data2 = pd.merge(bike_data, stations, left_on = 'Station_no_out', right_on = 'ID')"
   ]
  },
  {
   "cell_type": "markdown",
   "id": "a2f39efa",
   "metadata": {},
   "source": [
    "## Pie Chart"
   ]
  },
  {
   "cell_type": "code",
   "execution_count": 7,
   "id": "2e15519a",
   "metadata": {},
   "outputs": [
    {
     "data": {
      "image/png": "[encoded data removed]",
      "text/plain": [
       "<Figure size 432x288 with 1 Axes>"
      ]
     },
     "metadata": {},
     "output_type": "display_data"
    }
   ],
   "source": [
    "import matplotlib.pyplot as plt\n",
    "import numpy as np\n",
    "\n",
    "labels = bike_data2.Gender.unique()\n",
    "sizes = bike_data2.Gender.value_counts()\n",
    "colors = ['yellowgreen', 'lightskyblue', 'lightcoral', 'blue', 'coral']\n",
    "plt.pie(sizes, labels = labels, colors = colors, autopct = '%1.1f%%', startangle = 90)\n",
    "plt.show()"
   ]
  },
  {
   "cell_type": "markdown",
   "id": "5a98629f",
   "metadata": {},
   "source": [
    "plt.pie : 파이차트를 그릴 함수  \n",
    "sizes : 각 파이 조각에 해당하는 항목의 크기를 수치로 표현  \n",
    "labels : 각 파이 조각 이름 목록  \n",
    "colors : 따로 지정하지 않으면 default색 사용, 색 지정 가능  \n",
    "autopct = '%1.1%%' : 자동으로 비율을 계산하여 소수점 한 자리까지 표시하고 %를 붙임  \n",
    "startangle : 첫번째 파이 조각의 시작 각도 지정  "
   ]
  },
  {
   "cell_type": "markdown",
   "id": "0d58674c",
   "metadata": {},
   "source": [
    "## Histogram"
   ]
  },
  {
   "cell_type": "code",
   "execution_count": 10,
   "id": "0251a5dd",
   "metadata": {},
   "outputs": [
    {
     "data": {
      "image/png": "[encoded data removed]",
      "text/plain": [
       "<Figure size 432x288 with 1 Axes>"
      ]
     },
     "metadata": {
      "needs_background": "light"
     },
     "output_type": "display_data"
    }
   ],
   "source": [
    "plt.hist(bike_data2.Distance, color = 'blue')\n",
    "plt.show()"
   ]
  },
  {
   "cell_type": "markdown",
   "id": "ef887a65",
   "metadata": {},
   "source": [
    "plt.hist : 첫 인자로 수치형 데이터를 필요로 함, 값을 적당한 크기로 나누어 구간을 정해 x축에 표시함  \n",
    "구간의 크기를 변경 → 그래프의 느낌이 달라짐  "
   ]
  },
  {
   "cell_type": "code",
   "execution_count": 11,
   "id": "fe0f90bc",
   "metadata": {},
   "outputs": [
    {
     "data": {
      "image/png": "[encoded data removed]",
      "text/plain": [
       "<Figure size 432x288 with 1 Axes>"
      ]
     },
     "metadata": {
      "needs_background": "light"
     },
     "output_type": "display_data"
    }
   ],
   "source": [
    "plt.hist(bike_data2.Distance, color = 'blue', bins = 1000)\n",
    "plt.show()"
   ]
  },
  {
   "cell_type": "markdown",
   "id": "a1074f4b",
   "metadata": {},
   "source": [
    "## Box Plot"
   ]
  },
  {
   "cell_type": "code",
   "execution_count": 12,
   "id": "38c24d84",
   "metadata": {},
   "outputs": [
    {
     "data": {
      "image/png": "[encoded data removed]",
      "text/plain": [
       "<Figure size 432x288 with 1 Axes>"
      ]
     },
     "metadata": {
      "needs_background": "light"
     },
     "output_type": "display_data"
    }
   ],
   "source": [
    "plt.boxplot(bike_data2.Distance)\n",
    "plt.show()"
   ]
  },
  {
   "cell_type": "markdown",
   "id": "28a0ad5d",
   "metadata": {},
   "source": [
    "이상치가 많고 값의 차이가 커서 알아보기 어려운 모양이 됨"
   ]
  },
  {
   "cell_type": "code",
   "execution_count": 13,
   "id": "84bc0768",
   "metadata": {},
   "outputs": [
    {
     "data": {
      "image/png": "[encoded data removed]",
      "text/plain": [
       "<Figure size 432x288 with 1 Axes>"
      ]
     },
     "metadata": {
      "needs_background": "light"
     },
     "output_type": "display_data"
    }
   ],
   "source": [
    "under_5000 = bike_data2[bike_data2.Distance < 5000]\n",
    "plt.boxplot(under_5000.Distance)\n",
    "plt.show()"
   ]
  },
  {
   "cell_type": "markdown",
   "id": "8fa4a6f2",
   "metadata": {},
   "source": [
    "> 성별에 따라 나누어 그리기"
   ]
  },
  {
   "cell_type": "code",
   "execution_count": 14,
   "id": "79a66f20",
   "metadata": {},
   "outputs": [
    {
     "data": {
      "image/png": "[encoded data removed]",
      "text/plain": [
       "<Figure size 432x288 with 1 Axes>"
      ]
     },
     "metadata": {
      "needs_background": "light"
     },
     "output_type": "display_data"
    }
   ],
   "source": [
    "under_5000 = bike_data2[bike_data2.Distance < 5000]\n",
    "plt.boxplot([under_5000.Distance[under_5000.Gender == 'F'], under_5000.Distance[under_5000.Gender == 'M']])\n",
    "plt.xticks([1, 2], ['Female', 'Male'])\n",
    "plt.show()"
   ]
  },
  {
   "cell_type": "markdown",
   "id": "8990ec89",
   "metadata": {},
   "source": [
    "plt.xticks([1, 2], ['Female', 'Male']) : x축에 표시하는 눈금 지정 함수, 1과 2 위치에 Female과 Male로 표시 "
   ]
  },
  {
   "cell_type": "markdown",
   "id": "d4f4769f",
   "metadata": {},
   "source": [
    "## Line Graph"
   ]
  },
  {
   "cell_type": "code",
   "execution_count": 15,
   "id": "de82c3e5",
   "metadata": {},
   "outputs": [
    {
     "data": {
      "image/png": "[encoded data removed]",
      "text/plain": [
       "<Figure size 432x288 with 1 Axes>"
      ]
     },
     "metadata": {
      "needs_background": "light"
     },
     "output_type": "display_data"
    }
   ],
   "source": [
    "plt.plot(bike_data['Distance'].groupby(bike_data['Date_out']).sum())\n",
    "plt.show()"
   ]
  },
  {
   "cell_type": "markdown",
   "id": "498f9a3b",
   "metadata": {},
   "source": [
    "## Bar Graph"
   ]
  },
  {
   "cell_type": "code",
   "execution_count": 16,
   "id": "55be4f80",
   "metadata": {},
   "outputs": [
    {
     "data": {
      "image/png": "[encoded data removed]",
      "text/plain": [
       "<Figure size 432x288 with 1 Axes>"
      ]
     },
     "metadata": {
      "needs_background": "light"
     },
     "output_type": "display_data"
    }
   ],
   "source": [
    "plt.bar(labels, height = sizes, color = 'blue')\n",
    "plt.show()"
   ]
  },
  {
   "cell_type": "code",
   "execution_count": 17,
   "id": "7b8ceff9",
   "metadata": {},
   "outputs": [
    {
     "data": {
      "image/png": "[encoded data removed]",
      "text/plain": [
       "<Figure size 432x288 with 1 Axes>"
      ]
     },
     "metadata": {
      "needs_background": "light"
     },
     "output_type": "display_data"
    }
   ],
   "source": [
    "bike_data2['Gender'].value_counts().plot(kind = 'bar')\n",
    "plt.show()"
   ]
  }
 ],
 "metadata": {
  "kernelspec": {
   "display_name": "Python 3 (ipykernel)",
   "language": "python",
   "name": "python3"
  },
  "language_info": {
   "codemirror_mode": {
    "name": "ipython",
    "version": 3
   },
   "file_extension": ".py",
   "mimetype": "text/x-python",
   "name": "python",
   "nbconvert_exporter": "python",
   "pygments_lexer": "ipython3",
   "version": "3.9.7"
  }
 },
 "nbformat": 4,
 "nbformat_minor": 5
}
