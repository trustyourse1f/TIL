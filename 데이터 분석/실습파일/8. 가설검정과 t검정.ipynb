{
 "cells": [
  {
   "cell_type": "code",
   "execution_count": 1,
   "id": "8a5becc9",
   "metadata": {},
   "outputs": [],
   "source": [
    "import pandas as pd\n",
    "\n",
    "bike_data = pd.read_csv('bike_usage_0.csv', encoding = 'ANSI')\n",
    "stations = pd.read_csv('stations.csv')\n",
    "\n",
    "bike_data.loc[bike_data.Gender.isnull(), 'Gender'] = 'U'\n",
    "\n",
    "bike_data2 = pd.merge(bike_data, stations, left_on = 'Station_no_out', right_on = 'ID')\n",
    "bike_data2 = bike_data2[bike_data2.Distance != 0]"
   ]
  },
  {
   "cell_type": "code",
   "execution_count": 2,
   "id": "82931902",
   "metadata": {},
   "outputs": [
    {
     "data": {
      "text/plain": [
       "영등포구    10290\n",
       "마포구      9345\n",
       "서초구      6543\n",
       "동대문구     4797\n",
       "은평구      4606\n",
       "Name: Gu, dtype: int64"
      ]
     },
     "execution_count": 2,
     "metadata": {},
     "output_type": "execute_result"
    }
   ],
   "source": [
    "bike_data2.Gu.value_counts()"
   ]
  },
  {
   "cell_type": "code",
   "execution_count": 3,
   "id": "bb48bb63",
   "metadata": {},
   "outputs": [],
   "source": [
    "y_gu = bike_data2[bike_data2.Gu == '영등포구']\n",
    "m_gu = bike_data2[bike_data2.Gu == '마포구']"
   ]
  },
  {
   "cell_type": "markdown",
   "id": "47e143b5",
   "metadata": {},
   "source": [
    "두 그룹의 평균 비교 : 등분산인지 먼저 확인해야 함 (등분산인지 이분산인지에 따라 계산이 달라지기 때문)"
   ]
  },
  {
   "cell_type": "markdown",
   "id": "1facd5cd",
   "metadata": {},
   "source": [
    "Levene`s Test (등분산 분석)"
   ]
  },
  {
   "cell_type": "code",
   "execution_count": 4,
   "id": "8c6c8994",
   "metadata": {},
   "outputs": [
    {
     "data": {
      "text/plain": [
       "LeveneResult(statistic=3.5647234607192013, pvalue=0.05903430224682354)"
      ]
     },
     "execution_count": 4,
     "metadata": {},
     "output_type": "execute_result"
    }
   ],
   "source": [
    "from scipy import stats\n",
    "\n",
    "stats.levene(y_gu.Distance, m_gu.Distance)"
   ]
  },
  {
   "cell_type": "markdown",
   "id": "01daef61",
   "metadata": {},
   "source": [
    "p-value가 0.05보다 크기 때문에 등분산"
   ]
  },
  {
   "cell_type": "code",
   "execution_count": 6,
   "id": "bad790ea",
   "metadata": {},
   "outputs": [
    {
     "data": {
      "text/plain": [
       "4190.278911564626"
      ]
     },
     "execution_count": 6,
     "metadata": {},
     "output_type": "execute_result"
    }
   ],
   "source": [
    "import numpy as np\n",
    "\n",
    "np.mean(y_gu.Distance)"
   ]
  },
  {
   "cell_type": "code",
   "execution_count": 7,
   "id": "3807c75b",
   "metadata": {},
   "outputs": [
    {
     "data": {
      "text/plain": [
       "4514.426966292135"
      ]
     },
     "execution_count": 7,
     "metadata": {},
     "output_type": "execute_result"
    }
   ],
   "source": [
    "np.mean(m_gu.Distance)"
   ]
  },
  {
   "cell_type": "code",
   "execution_count": 8,
   "id": "100bbbb5",
   "metadata": {},
   "outputs": [
    {
     "data": {
      "text/plain": [
       "Ttest_indResult(statistic=-4.002195758414915, pvalue=6.298774059911862e-05)"
      ]
     },
     "execution_count": 8,
     "metadata": {},
     "output_type": "execute_result"
    }
   ],
   "source": [
    "stats.ttest_ind(y_gu.Distance, m_gu.Distance, equal_var = True)"
   ]
  },
  {
   "cell_type": "markdown",
   "id": "f5a021e5",
   "metadata": {},
   "source": [
    "p-value : 귀무가설이 참이라는 가정 하에 현재 평균값 사이의 차이가 나타날 확률  \n",
    "p-value가 0.05보다 작기 때문에 귀무가설을 기각하고 대립가설을 채택.  \n",
    "귀무가설 : 두 집단간의 평균은 통계적으로 유의미한 차이가 없다.  \n",
    "따라서 두 집단간의 평균은 같지 않다."
   ]
  }
 ],
 "metadata": {
  "kernelspec": {
   "display_name": "Python 3 (ipykernel)",
   "language": "python",
   "name": "python3"
  },
  "language_info": {
   "codemirror_mode": {
    "name": "ipython",
    "version": 3
   },
   "file_extension": ".py",
   "mimetype": "text/x-python",
   "name": "python",
   "nbconvert_exporter": "python",
   "pygments_lexer": "ipython3",
   "version": "3.9.7"
  }
 },
 "nbformat": 4,
 "nbformat_minor": 5
}
