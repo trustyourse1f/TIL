{
 "cells": [
  {
   "cell_type": "markdown",
   "id": "9a80d045",
   "metadata": {},
   "source": [
    "### 상관분석\n",
    "\n",
    "1. 두 수치형 데이터 간의 직선적 관계를 알려줌 > 직선성 외에는 알려주는 것이 없다.  \n",
    " 상관관계는 항상 변수2개에 대한 분석만 수행함 > 2개씩 여러 번의 분석을 수행,  \n",
    " 또, **수치형 데이터 사용**만 가능함 (카이제곱검정 : 범주형 데이터)  \n",
    "\n",
    "2. 직선적 관계, 음.양의 관계와는 단순히 관계가 있다는 것 > ***인과관계를 얘기하는 것이 아니다.***  \n",
    "3. 상관계수가 데이터 안에 존재하는 진짜 상관성과 일치하지 않는 경우가 종종 있다.  \n",
    "직선성이 아닌 것, 몇 개의 그룹으로 나눠진 경우, 이상값이 일부 극단적으로 존재하는 경우 > 상관분석에 전적으로 기대는 것은 바람직하지 않음"
   ]
  },
  {
   "cell_type": "markdown",
   "id": "34134ee4",
   "metadata": {},
   "source": [
    "Q. 구별의 인구와 구별 자전거 대여건수는 관계가 있을까?"
   ]
  },
  {
   "cell_type": "code",
   "execution_count": 1,
   "id": "296f0c03",
   "metadata": {},
   "outputs": [],
   "source": [
    "import pandas as pd\n",
    "\n",
    "bike_data2 = pd.read_csv('bike_data2.csv')"
   ]
  },
  {
   "cell_type": "code",
   "execution_count": 2,
   "id": "5eaa135e",
   "metadata": {},
   "outputs": [
    {
     "data": {
      "text/html": [
       "<div>\n",
       "<style scoped>\n",
       "    .dataframe tbody tr th:only-of-type {\n",
       "        vertical-align: middle;\n",
       "    }\n",
       "\n",
       "    .dataframe tbody tr th {\n",
       "        vertical-align: top;\n",
       "    }\n",
       "\n",
       "    .dataframe thead th {\n",
       "        text-align: right;\n",
       "    }\n",
       "</style>\n",
       "<table border=\"1\" class=\"dataframe\">\n",
       "  <thead>\n",
       "    <tr style=\"text-align: right;\">\n",
       "      <th></th>\n",
       "      <th>Distance</th>\n",
       "    </tr>\n",
       "    <tr>\n",
       "      <th>Gu</th>\n",
       "      <th></th>\n",
       "    </tr>\n",
       "  </thead>\n",
       "  <tbody>\n",
       "    <tr>\n",
       "      <th>동대문구</th>\n",
       "      <td>4797</td>\n",
       "    </tr>\n",
       "    <tr>\n",
       "      <th>마포구</th>\n",
       "      <td>9345</td>\n",
       "    </tr>\n",
       "    <tr>\n",
       "      <th>서초구</th>\n",
       "      <td>6543</td>\n",
       "    </tr>\n",
       "    <tr>\n",
       "      <th>영등포구</th>\n",
       "      <td>10290</td>\n",
       "    </tr>\n",
       "    <tr>\n",
       "      <th>은평구</th>\n",
       "      <td>4606</td>\n",
       "    </tr>\n",
       "  </tbody>\n",
       "</table>\n",
       "</div>"
      ],
      "text/plain": [
       "      Distance\n",
       "Gu            \n",
       "동대문구      4797\n",
       "마포구       9345\n",
       "서초구       6543\n",
       "영등포구     10290\n",
       "은평구       4606"
      ]
     },
     "execution_count": 2,
     "metadata": {},
     "output_type": "execute_result"
    }
   ],
   "source": [
    "dist_by_gu = pd.pivot_table(bike_data2, index = 'Gu', values = 'Distance', aggfunc = len)\n",
    "dist_by_gu"
   ]
  },
  {
   "cell_type": "markdown",
   "id": "3c554d9d",
   "metadata": {},
   "source": [
    "Distance 컬럼 : pivot table의 요건을 갖추기 위해 사용한 것임\n",
    "\n",
    "len : 집계함수, 해당 구 별로 데이터의 개수를 파악"
   ]
  },
  {
   "cell_type": "code",
   "execution_count": 4,
   "id": "a523b505",
   "metadata": {},
   "outputs": [
    {
     "data": {
      "text/html": [
       "<div>\n",
       "<style scoped>\n",
       "    .dataframe tbody tr th:only-of-type {\n",
       "        vertical-align: middle;\n",
       "    }\n",
       "\n",
       "    .dataframe tbody tr th {\n",
       "        vertical-align: top;\n",
       "    }\n",
       "\n",
       "    .dataframe thead th {\n",
       "        text-align: right;\n",
       "    }\n",
       "</style>\n",
       "<table border=\"1\" class=\"dataframe\">\n",
       "  <thead>\n",
       "    <tr style=\"text-align: right;\">\n",
       "      <th></th>\n",
       "      <th>Gu</th>\n",
       "      <th>Family</th>\n",
       "      <th>Population</th>\n",
       "      <th>Male</th>\n",
       "      <th>Female</th>\n",
       "      <th>D_Total</th>\n",
       "      <th>D_Male</th>\n",
       "      <th>D_Female</th>\n",
       "      <th>F_Total</th>\n",
       "      <th>F_Male</th>\n",
       "      <th>F_Female</th>\n",
       "      <th>per_Family</th>\n",
       "      <th>over_65</th>\n",
       "    </tr>\n",
       "  </thead>\n",
       "  <tbody>\n",
       "    <tr>\n",
       "      <th>0</th>\n",
       "      <td>동대문구</td>\n",
       "      <td>164191</td>\n",
       "      <td>363023</td>\n",
       "      <td>178490</td>\n",
       "      <td>184533</td>\n",
       "      <td>346194</td>\n",
       "      <td>172113</td>\n",
       "      <td>174081</td>\n",
       "      <td>16829</td>\n",
       "      <td>6377</td>\n",
       "      <td>10452</td>\n",
       "      <td>2.11</td>\n",
       "      <td>59350</td>\n",
       "    </tr>\n",
       "    <tr>\n",
       "      <th>1</th>\n",
       "      <td>은평구</td>\n",
       "      <td>207681</td>\n",
       "      <td>484546</td>\n",
       "      <td>233360</td>\n",
       "      <td>251186</td>\n",
       "      <td>480032</td>\n",
       "      <td>231528</td>\n",
       "      <td>248504</td>\n",
       "      <td>4514</td>\n",
       "      <td>1832</td>\n",
       "      <td>2682</td>\n",
       "      <td>2.31</td>\n",
       "      <td>80738</td>\n",
       "    </tr>\n",
       "    <tr>\n",
       "      <th>2</th>\n",
       "      <td>마포구</td>\n",
       "      <td>175023</td>\n",
       "      <td>385925</td>\n",
       "      <td>181303</td>\n",
       "      <td>204622</td>\n",
       "      <td>374035</td>\n",
       "      <td>176891</td>\n",
       "      <td>197144</td>\n",
       "      <td>11890</td>\n",
       "      <td>4412</td>\n",
       "      <td>7478</td>\n",
       "      <td>2.14</td>\n",
       "      <td>52429</td>\n",
       "    </tr>\n",
       "    <tr>\n",
       "      <th>3</th>\n",
       "      <td>영등포구</td>\n",
       "      <td>174806</td>\n",
       "      <td>400986</td>\n",
       "      <td>200986</td>\n",
       "      <td>200000</td>\n",
       "      <td>367678</td>\n",
       "      <td>182438</td>\n",
       "      <td>185240</td>\n",
       "      <td>33308</td>\n",
       "      <td>18548</td>\n",
       "      <td>14760</td>\n",
       "      <td>2.10</td>\n",
       "      <td>57872</td>\n",
       "    </tr>\n",
       "    <tr>\n",
       "      <th>4</th>\n",
       "      <td>서초구</td>\n",
       "      <td>173199</td>\n",
       "      <td>435107</td>\n",
       "      <td>208181</td>\n",
       "      <td>226926</td>\n",
       "      <td>430826</td>\n",
       "      <td>206039</td>\n",
       "      <td>224787</td>\n",
       "      <td>4281</td>\n",
       "      <td>2142</td>\n",
       "      <td>2139</td>\n",
       "      <td>2.49</td>\n",
       "      <td>57136</td>\n",
       "    </tr>\n",
       "  </tbody>\n",
       "</table>\n",
       "</div>"
      ],
      "text/plain": [
       "     Gu  Family  Population    Male  Female  D_Total  D_Male  D_Female  \\\n",
       "0  동대문구  164191      363023  178490  184533   346194  172113    174081   \n",
       "1   은평구  207681      484546  233360  251186   480032  231528    248504   \n",
       "2   마포구  175023      385925  181303  204622   374035  176891    197144   \n",
       "3  영등포구  174806      400986  200986  200000   367678  182438    185240   \n",
       "4   서초구  173199      435107  208181  226926   430826  206039    224787   \n",
       "\n",
       "   F_Total  F_Male  F_Female  per_Family  over_65  \n",
       "0    16829    6377     10452        2.11    59350  \n",
       "1     4514    1832      2682        2.31    80738  \n",
       "2    11890    4412      7478        2.14    52429  \n",
       "3    33308   18548     14760        2.10    57872  \n",
       "4     4281    2142      2139        2.49    57136  "
      ]
     },
     "execution_count": 4,
     "metadata": {},
     "output_type": "execute_result"
    }
   ],
   "source": [
    "population = pd.read_csv('population_by_Gu.txt', sep = '\\t')\n",
    "population"
   ]
  },
  {
   "cell_type": "code",
   "execution_count": 5,
   "id": "2bbd73e0",
   "metadata": {},
   "outputs": [
    {
     "data": {
      "text/html": [
       "<div>\n",
       "<style scoped>\n",
       "    .dataframe tbody tr th:only-of-type {\n",
       "        vertical-align: middle;\n",
       "    }\n",
       "\n",
       "    .dataframe tbody tr th {\n",
       "        vertical-align: top;\n",
       "    }\n",
       "\n",
       "    .dataframe thead th {\n",
       "        text-align: right;\n",
       "    }\n",
       "</style>\n",
       "<table border=\"1\" class=\"dataframe\">\n",
       "  <thead>\n",
       "    <tr style=\"text-align: right;\">\n",
       "      <th></th>\n",
       "      <th>Gu</th>\n",
       "      <th>Distance</th>\n",
       "      <th>Family</th>\n",
       "      <th>Population</th>\n",
       "      <th>Male</th>\n",
       "      <th>Female</th>\n",
       "      <th>D_Total</th>\n",
       "      <th>D_Male</th>\n",
       "      <th>D_Female</th>\n",
       "      <th>F_Total</th>\n",
       "      <th>F_Male</th>\n",
       "      <th>F_Female</th>\n",
       "      <th>per_Family</th>\n",
       "      <th>over_65</th>\n",
       "    </tr>\n",
       "  </thead>\n",
       "  <tbody>\n",
       "    <tr>\n",
       "      <th>0</th>\n",
       "      <td>동대문구</td>\n",
       "      <td>4797</td>\n",
       "      <td>164191</td>\n",
       "      <td>363023</td>\n",
       "      <td>178490</td>\n",
       "      <td>184533</td>\n",
       "      <td>346194</td>\n",
       "      <td>172113</td>\n",
       "      <td>174081</td>\n",
       "      <td>16829</td>\n",
       "      <td>6377</td>\n",
       "      <td>10452</td>\n",
       "      <td>2.11</td>\n",
       "      <td>59350</td>\n",
       "    </tr>\n",
       "    <tr>\n",
       "      <th>1</th>\n",
       "      <td>마포구</td>\n",
       "      <td>9345</td>\n",
       "      <td>175023</td>\n",
       "      <td>385925</td>\n",
       "      <td>181303</td>\n",
       "      <td>204622</td>\n",
       "      <td>374035</td>\n",
       "      <td>176891</td>\n",
       "      <td>197144</td>\n",
       "      <td>11890</td>\n",
       "      <td>4412</td>\n",
       "      <td>7478</td>\n",
       "      <td>2.14</td>\n",
       "      <td>52429</td>\n",
       "    </tr>\n",
       "    <tr>\n",
       "      <th>2</th>\n",
       "      <td>서초구</td>\n",
       "      <td>6543</td>\n",
       "      <td>173199</td>\n",
       "      <td>435107</td>\n",
       "      <td>208181</td>\n",
       "      <td>226926</td>\n",
       "      <td>430826</td>\n",
       "      <td>206039</td>\n",
       "      <td>224787</td>\n",
       "      <td>4281</td>\n",
       "      <td>2142</td>\n",
       "      <td>2139</td>\n",
       "      <td>2.49</td>\n",
       "      <td>57136</td>\n",
       "    </tr>\n",
       "    <tr>\n",
       "      <th>3</th>\n",
       "      <td>영등포구</td>\n",
       "      <td>10290</td>\n",
       "      <td>174806</td>\n",
       "      <td>400986</td>\n",
       "      <td>200986</td>\n",
       "      <td>200000</td>\n",
       "      <td>367678</td>\n",
       "      <td>182438</td>\n",
       "      <td>185240</td>\n",
       "      <td>33308</td>\n",
       "      <td>18548</td>\n",
       "      <td>14760</td>\n",
       "      <td>2.10</td>\n",
       "      <td>57872</td>\n",
       "    </tr>\n",
       "    <tr>\n",
       "      <th>4</th>\n",
       "      <td>은평구</td>\n",
       "      <td>4606</td>\n",
       "      <td>207681</td>\n",
       "      <td>484546</td>\n",
       "      <td>233360</td>\n",
       "      <td>251186</td>\n",
       "      <td>480032</td>\n",
       "      <td>231528</td>\n",
       "      <td>248504</td>\n",
       "      <td>4514</td>\n",
       "      <td>1832</td>\n",
       "      <td>2682</td>\n",
       "      <td>2.31</td>\n",
       "      <td>80738</td>\n",
       "    </tr>\n",
       "  </tbody>\n",
       "</table>\n",
       "</div>"
      ],
      "text/plain": [
       "     Gu  Distance  Family  Population    Male  Female  D_Total  D_Male  \\\n",
       "0  동대문구      4797  164191      363023  178490  184533   346194  172113   \n",
       "1   마포구      9345  175023      385925  181303  204622   374035  176891   \n",
       "2   서초구      6543  173199      435107  208181  226926   430826  206039   \n",
       "3  영등포구     10290  174806      400986  200986  200000   367678  182438   \n",
       "4   은평구      4606  207681      484546  233360  251186   480032  231528   \n",
       "\n",
       "   D_Female  F_Total  F_Male  F_Female  per_Family  over_65  \n",
       "0    174081    16829    6377     10452        2.11    59350  \n",
       "1    197144    11890    4412      7478        2.14    52429  \n",
       "2    224787     4281    2142      2139        2.49    57136  \n",
       "3    185240    33308   18548     14760        2.10    57872  \n",
       "4    248504     4514    1832      2682        2.31    80738  "
      ]
     },
     "execution_count": 5,
     "metadata": {},
     "output_type": "execute_result"
    }
   ],
   "source": [
    "by_gu = pd.merge(dist_by_gu, population, on = 'Gu')\n",
    "by_gu"
   ]
  },
  {
   "cell_type": "markdown",
   "id": "88c12d0f",
   "metadata": {},
   "source": [
    "### 산점도 : 구별 총 대여건수와 인구수 간의 상관관계를 알아보기 위함"
   ]
  },
  {
   "cell_type": "code",
   "execution_count": 7,
   "id": "eafd407d",
   "metadata": {},
   "outputs": [
    {
     "data": {
      "image/png": "[encoded data removed]",
      "text/plain": [
       "<Figure size 432x288 with 1 Axes>"
      ]
     },
     "metadata": {
      "needs_background": "light"
     },
     "output_type": "display_data"
    }
   ],
   "source": [
    "import matplotlib.pyplot as plt\n",
    "\n",
    "plt.scatter(by_gu.Distance, by_gu.Population)\n",
    "plt.show()"
   ]
  },
  {
   "cell_type": "markdown",
   "id": "63d4bf79",
   "metadata": {},
   "source": [
    "### 상관계수를 구하는 함수\n",
    "\n",
    "1. scipy.stats가 제공하는 pearsonr함수  \n",
    "2. pandas의 corr()함수"
   ]
  },
  {
   "cell_type": "code",
   "execution_count": 8,
   "id": "5f3a259a",
   "metadata": {},
   "outputs": [
    {
     "data": {
      "text/plain": [
       "(-0.35477444022652943, 0.557950425295368)"
      ]
     },
     "execution_count": 8,
     "metadata": {},
     "output_type": "execute_result"
    }
   ],
   "source": [
    "from scipy import stats\n",
    "\n",
    "stats.pearsonr(by_gu.Distance, by_gu.Population)"
   ]
  },
  {
   "cell_type": "markdown",
   "id": "5251b2ee",
   "metadata": {},
   "source": [
    "첫번째 값 : 상관계수, 두번째 값 : p-value"
   ]
  },
  {
   "cell_type": "markdown",
   "id": "e87e04b2",
   "metadata": {},
   "source": [
    "### 상관계수의 의미\n",
    "\n",
    "-1부터 1의 값을 갖고 절대값이 클수록 강한 상관관계가 있다."
   ]
  },
  {
   "cell_type": "markdown",
   "id": "be78b968",
   "metadata": {},
   "source": [
    "---"
   ]
  },
  {
   "cell_type": "markdown",
   "id": "289d37b6",
   "metadata": {},
   "source": [
    "상관분석의 귀무가설 : 두 변수 간 상관관계가 없다."
   ]
  },
  {
   "cell_type": "code",
   "execution_count": 9,
   "id": "c267e278",
   "metadata": {},
   "outputs": [
    {
     "data": {
      "text/html": [
       "<div>\n",
       "<style scoped>\n",
       "    .dataframe tbody tr th:only-of-type {\n",
       "        vertical-align: middle;\n",
       "    }\n",
       "\n",
       "    .dataframe tbody tr th {\n",
       "        vertical-align: top;\n",
       "    }\n",
       "\n",
       "    .dataframe thead th {\n",
       "        text-align: right;\n",
       "    }\n",
       "</style>\n",
       "<table border=\"1\" class=\"dataframe\">\n",
       "  <thead>\n",
       "    <tr style=\"text-align: right;\">\n",
       "      <th></th>\n",
       "      <th>Distance</th>\n",
       "      <th>Population</th>\n",
       "    </tr>\n",
       "  </thead>\n",
       "  <tbody>\n",
       "    <tr>\n",
       "      <th>Distance</th>\n",
       "      <td>1.000000</td>\n",
       "      <td>-0.354774</td>\n",
       "    </tr>\n",
       "    <tr>\n",
       "      <th>Population</th>\n",
       "      <td>-0.354774</td>\n",
       "      <td>1.000000</td>\n",
       "    </tr>\n",
       "  </tbody>\n",
       "</table>\n",
       "</div>"
      ],
      "text/plain": [
       "            Distance  Population\n",
       "Distance    1.000000   -0.354774\n",
       "Population -0.354774    1.000000"
      ]
     },
     "execution_count": 9,
     "metadata": {},
     "output_type": "execute_result"
    }
   ],
   "source": [
    "by_gu = pd.merge(dist_by_gu, population, on = 'Gu')[['Gu', 'Distance', 'Population']]\n",
    "by_gu.corr()"
   ]
  },
  {
   "cell_type": "markdown",
   "id": "bb759603",
   "metadata": {},
   "source": [
    "corr()의 장점  \n",
    "데이터가 가지고 있는 모든 컬럼을 대상으로 상관계수를 구해서 보여줌 > 많은 수치형 데이터 컬럼을 모두 상관분석 해보고자 할 때 간편함"
   ]
  }
 ],
 "metadata": {
  "kernelspec": {
   "display_name": "Python 3 (ipykernel)",
   "language": "python",
   "name": "python3"
  },
  "language_info": {
   "codemirror_mode": {
    "name": "ipython",
    "version": 3
   },
   "file_extension": ".py",
   "mimetype": "text/x-python",
   "name": "python",
   "nbconvert_exporter": "python",
   "pygments_lexer": "ipython3",
   "version": "3.9.7"
  }
 },
 "nbformat": 4,
 "nbformat_minor": 5
}
