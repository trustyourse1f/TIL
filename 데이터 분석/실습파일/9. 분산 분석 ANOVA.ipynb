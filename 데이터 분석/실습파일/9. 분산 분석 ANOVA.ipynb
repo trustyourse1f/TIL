{
 "cells": [
  {
   "cell_type": "markdown",
   "id": "20f4a99e",
   "metadata": {},
   "source": [
    "분산분석의 3단계\n",
    "1. 등분산분석\n",
    "2. 분산분석\n",
    "3. 사후분석"
   ]
  },
  {
   "cell_type": "markdown",
   "id": "59707999",
   "metadata": {},
   "source": [
    "1. 등분산 분석  \n",
    "여러 그룹의 분산이 같은가를 확인 > 가설 검정 방법대로 귀무가설 정의 : 모든 그룹의 분산은 같다.  \n",
    "유의수준 0.05와 p-value 비교  \n",
    "p-value가 유의수준 0.05보다 같거나 크면 **귀무가설 기각 불가**  \n",
    "p-value가 유의수준 0.05보다 작으면 **귀무가설 기각**  \n",
    "\n",
    "귀무가설 기각 = 모든 그룹의 분산이 같은 것은 아니다.  \n",
    "\n",
    "등분산임을 가정할 수 있으면 분산분석 가능, 그렇지 않으면 다른 방법으로 수행"
   ]
  },
  {
   "cell_type": "markdown",
   "id": "3c77f24e",
   "metadata": {},
   "source": [
    "2. 분산분석  \n",
    "귀무가설 : 모든 그룹의 평균은 같다.  \n",
    "대립가설 : 어떤 그룹의 평균은 같지 않다.  \n",
    "\n",
    "p-value가 유의수준보다 같거나 크면 귀무가설 기각 불가  \n",
    "p-value가 유의수준보다 작으면 귀무가설 기각 \n",
    "\n",
    "귀무가설 기각 시  \n",
    "어떤 그룹의 평균이 같은지는 알 수 없기 때문에 사후검정이 필요"
   ]
  },
  {
   "cell_type": "markdown",
   "id": "01089269",
   "metadata": {},
   "source": [
    "3. 사후분석  \n",
    "그룹 별 평균을 비교해 평균이 같은 그룹과 다른 그룹을 구분하여 알려줌"
   ]
  },
  {
   "cell_type": "markdown",
   "id": "6574a07a",
   "metadata": {},
   "source": [
    "### Bartlett`s Test (등분산 분석)"
   ]
  },
  {
   "cell_type": "code",
   "execution_count": 2,
   "id": "7d112275",
   "metadata": {},
   "outputs": [],
   "source": [
    "import pandas as pd\n",
    "\n",
    "bike_data = pd.read_csv('bike_usage_0.csv', encoding = 'ANSI')\n",
    "stations = pd.read_csv('stations.csv')\n",
    "\n",
    "bike_data.loc[bike_data.Gender.isnull(), 'Gender'] = 'U'\n",
    "\n",
    "bike_data2 = pd.merge(bike_data, stations, left_on = 'Station_no_out', right_on = 'ID')\n",
    "bike_data2 = bike_data2[bike_data2.Distance != 0]\n",
    "\n",
    "bike_data2.to_csv('bike_data2.csv', encoding = 'utf-8-sig', index = False)\n",
    "\n",
    "y_gu = bike_data2[bike_data2.Gu == '영등포구']\n",
    "m_gu = bike_data2[bike_data2.Gu == '마포구']"
   ]
  },
  {
   "cell_type": "code",
   "execution_count": 2,
   "id": "b291400d",
   "metadata": {},
   "outputs": [],
   "source": [
    "s_gu = bike_data2[bike_data2.Gu == '서초구']\n",
    "d_gu = bike_data2[bike_data2.Gu == '동대문구']\n",
    "e_gu = bike_data2[bike_data2.Gu == '은평구']"
   ]
  },
  {
   "cell_type": "code",
   "execution_count": 3,
   "id": "3107644f",
   "metadata": {},
   "outputs": [
    {
     "data": {
      "text/plain": [
       "BartlettResult(statistic=405.99591324805436, pvalue=1.4084240027307602e-86)"
      ]
     },
     "execution_count": 3,
     "metadata": {},
     "output_type": "execute_result"
    }
   ],
   "source": [
    "from scipy import stats\n",
    "\n",
    "stats.bartlett(y_gu.Distance, m_gu.Distance, s_gu.Distance, d_gu.Distance, e_gu.Distance)"
   ]
  },
  {
   "cell_type": "markdown",
   "id": "cc46d3eb",
   "metadata": {},
   "source": [
    "p-value가 유의수준 0.05보다 작으므로 귀무가설 기각  \n",
    "\n",
    "= 모든 그룹이 등분산은 아니다"
   ]
  },
  {
   "cell_type": "markdown",
   "id": "5d3b63f9",
   "metadata": {},
   "source": [
    "등분산이 나오지 않는다면  \n",
    "1. 비모수적 방법 사용 : 평균, 분산, 표준편차 등 통계량에 근거한 추론 방법을 사용하지 않는 것\n",
    "2. 데이터에 보완할 점 검토 : 데이터가 충분하지 않은 경우"
   ]
  },
  {
   "cell_type": "markdown",
   "id": "ff527b9a",
   "metadata": {},
   "source": [
    "> 실습을 위해 등분산이라 가정하고 분산분석 실시"
   ]
  },
  {
   "cell_type": "markdown",
   "id": "827270d2",
   "metadata": {},
   "source": [
    "### 분산분석 : One Way ANOVA"
   ]
  },
  {
   "cell_type": "code",
   "execution_count": 4,
   "id": "c90580b1",
   "metadata": {},
   "outputs": [
    {
     "data": {
      "text/plain": [
       "F_onewayResult(statistic=37.75546101206967, pvalue=1.4366160740892166e-31)"
      ]
     },
     "execution_count": 4,
     "metadata": {},
     "output_type": "execute_result"
    }
   ],
   "source": [
    "stats.f_oneway(y_gu.Distance, m_gu.Distance, s_gu.Distance, d_gu.Distance, e_gu.Distance)"
   ]
  },
  {
   "cell_type": "markdown",
   "id": "95753518",
   "metadata": {},
   "source": [
    "귀무가설 : 모든 그룹의 평균은 같다  \n",
    "p-value가 유의수준 0.05보다 작으므로 귀무가설 기각  "
   ]
  },
  {
   "cell_type": "code",
   "execution_count": 9,
   "id": "6e0c9fcc",
   "metadata": {},
   "outputs": [
    {
     "data": {
      "image/png": "[encoded data removed]",
      "text/plain": [
       "<Figure size 432x288 with 1 Axes>"
      ]
     },
     "metadata": {
      "needs_background": "light"
     },
     "output_type": "display_data"
    }
   ],
   "source": [
    "import matplotlib.pyplot as plt\n",
    "\n",
    "plot_data = [y_gu.Distance, m_gu.Distance, s_gu.Distance, d_gu.Distance, e_gu.Distance]\n",
    "plt.boxplot(plot_data, showfliers = False)\n",
    "plt.show()"
   ]
  },
  {
   "cell_type": "markdown",
   "id": "5aa166b5",
   "metadata": {},
   "source": [
    "### 사후 분석 : Tukey`s HSD Test"
   ]
  },
  {
   "cell_type": "markdown",
   "id": "07b35bc0",
   "metadata": {},
   "source": [
    "Tukey`s HSD (Honestly Significant Difference)  \n",
    "평균이 같은 그룹과 다른 그룹을 나누어 볼 수 있는 방법 중 하나  \n",
    "statsmodels 패키지가 필요한 함수"
   ]
  },
  {
   "cell_type": "code",
   "execution_count": 13,
   "id": "81627e78",
   "metadata": {},
   "outputs": [
    {
     "data": {
      "text/html": [
       "<table class=\"simpletable\">\n",
       "<caption>Multiple Comparison of Means - Tukey HSD, FWER=0.05</caption>\n",
       "<tr>\n",
       "  <th>group1</th> <th>group2</th> <th>meandiff</th>   <th>p-adj</th>    <th>lower</th>     <th>upper</th>   <th>reject</th>\n",
       "</tr>\n",
       "<tr>\n",
       "   <td>동대문구</td>    <td>마포구</td>   <td>793.049</td>   <td>0.001</td>   <td>515.079</td>  <td>1071.019</td>   <td>True</td> \n",
       "</tr>\n",
       "<tr>\n",
       "   <td>동대문구</td>    <td>서초구</td>  <td>1210.5524</td>  <td>0.001</td>  <td>913.0775</td>  <td>1508.0272</td>  <td>True</td> \n",
       "</tr>\n",
       "<tr>\n",
       "   <td>동대문구</td>   <td>영등포구</td>   <td>468.901</td>   <td>0.001</td>  <td>195.2948</td>  <td>742.5072</td>   <td>True</td> \n",
       "</tr>\n",
       "<tr>\n",
       "   <td>동대문구</td>    <td>은평구</td>  <td>351.3685</td>  <td>0.0249</td>   <td>28.5165</td>  <td>674.2204</td>   <td>True</td> \n",
       "</tr>\n",
       "<tr>\n",
       "    <td>마포구</td>    <td>서초구</td>  <td>417.5033</td>   <td>0.001</td>  <td>165.2287</td>   <td>669.778</td>   <td>True</td> \n",
       "</tr>\n",
       "<tr>\n",
       "    <td>마포구</td>   <td>영등포구</td>  <td>-324.1481</td>  <td>0.001</td>  <td>-547.7807</td> <td>-100.5154</td>  <td>True</td> \n",
       "</tr>\n",
       "<tr>\n",
       "    <td>마포구</td>    <td>은평구</td>  <td>-441.6805</td>  <td>0.001</td>  <td>-723.4333</td> <td>-159.9278</td>  <td>True</td> \n",
       "</tr>\n",
       "<tr>\n",
       "    <td>서초구</td>   <td>영등포구</td>  <td>-741.6514</td>  <td>0.001</td>  <td>-989.1095</td> <td>-494.1933</td>  <td>True</td> \n",
       "</tr>\n",
       "<tr>\n",
       "    <td>서초구</td>    <td>은평구</td>  <td>-859.1839</td>  <td>0.001</td> <td>-1160.1964</td> <td>-558.1714</td>  <td>True</td> \n",
       "</tr>\n",
       "<tr>\n",
       "   <td>영등포구</td>    <td>은평구</td>  <td>-117.5325</td> <td>0.7495</td>  <td>-394.9809</td> <td>159.9159</td>   <td>False</td>\n",
       "</tr>\n",
       "</table>"
      ],
      "text/plain": [
       "<class 'statsmodels.iolib.table.SimpleTable'>"
      ]
     },
     "execution_count": 13,
     "metadata": {},
     "output_type": "execute_result"
    }
   ],
   "source": [
    "from statsmodels.stats.multicomp import pairwise_tukeyhsd\n",
    "\n",
    "hsd = pairwise_tukeyhsd(bike_data2.Distance, bike_data2.Gu)\n",
    "hsd.summary()"
   ]
  },
  {
   "cell_type": "markdown",
   "id": "03048094",
   "metadata": {},
   "source": [
    "5개 구의 이동거리 평균은 영등포구와 은평구만 통계적으로 같고 나머지는 같지 않다"
   ]
  }
 ],
 "metadata": {
  "kernelspec": {
   "display_name": "Python 3 (ipykernel)",
   "language": "python",
   "name": "python3"
  },
  "language_info": {
   "codemirror_mode": {
    "name": "ipython",
    "version": 3
   },
   "file_extension": ".py",
   "mimetype": "text/x-python",
   "name": "python",
   "nbconvert_exporter": "python",
   "pygments_lexer": "ipython3",
   "version": "3.9.7"
  }
 },
 "nbformat": 4,
 "nbformat_minor": 5
}
