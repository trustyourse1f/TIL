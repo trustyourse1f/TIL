{
 "cells": [
  {
   "cell_type": "markdown",
   "id": "cceca2ba",
   "metadata": {},
   "source": [
    "카이제곱 분포 : 정규분포의 분산에 대한 확률분포 (평균으로부터 얼마나 떨어져 있는가에 대한 확률분포) \n",
    "\n",
    "카이제곱 검정 : **두 개의 범주형 데이터**를 사용, 하나의 범주형 데이터가 다른 하나의 범주형 데이터 값에 영향이 있는지 확인"
   ]
  },
  {
   "cell_type": "markdown",
   "id": "ace12cbb",
   "metadata": {},
   "source": [
    "카이제곱 검정 : scipy의 stats패키지의 chi2_contingency함수를 사용  \n",
    "입력값으로 요약표 같은 구조를 활용 > pivot, pandas의 또 다른 기능 활용"
   ]
  },
  {
   "cell_type": "code",
   "execution_count": 1,
   "id": "e64fe91c",
   "metadata": {},
   "outputs": [
    {
     "data": {
      "text/plain": [
       "(1383.2239098895247,\n",
       " 5.690745840063902e-283,\n",
       " 18,\n",
       " array([[5.13956887e+01, 3.43679017e+03, 7.90702903e-01, 1.05780234e+04],\n",
       "        [3.37559372e+01, 2.25723355e+03, 5.19322110e-01, 6.94749119e+03],\n",
       "        [2.18158568e+01, 1.45880956e+03, 3.35628566e-01, 4.49003895e+03],\n",
       "        [1.15089514e+01, 7.69594728e+02, 1.77060791e-01, 2.36871926e+03],\n",
       "        [3.31384728e+00, 2.21594418e+02, 5.09822658e-02, 6.82040752e+02],\n",
       "        [6.61308001e-01, 4.42211574e+01, 1.01739693e-02, 1.36107361e+02],\n",
       "        [7.54841067e+00, 5.04756415e+02, 1.16129395e-01, 1.55357904e+03]]))"
      ]
     },
     "execution_count": 1,
     "metadata": {},
     "output_type": "execute_result"
    }
   ],
   "source": [
    "from scipy.stats import chi2_contingency\n",
    "import pandas as pd\n",
    "\n",
    "bike_data2 = pd.read_csv('bike_data2.csv')\n",
    "\n",
    "crosstab = pd.crosstab(bike_data2.Age_Group, bike_data2.Membership_type)\n",
    "chi2_contingency(crosstab)"
   ]
  },
  {
   "cell_type": "code",
   "execution_count": 2,
   "id": "07148264",
   "metadata": {},
   "outputs": [
    {
     "name": "stdout",
     "output_type": "stream",
     "text": [
      "Chi2 Statistic : 1383.2239098895247, p-value : 5.690745840063902e-283\n"
     ]
    }
   ],
   "source": [
    "result = chi2_contingency(crosstab)\n",
    "print(f'Chi2 Statistic : {result[0]}, p-value : {result[1]}')"
   ]
  },
  {
   "cell_type": "markdown",
   "id": "e2d080ad",
   "metadata": {},
   "source": [
    "귀무가설 : Age_Group과 Memvership_type은 독립이다.  \n",
    "p-value가 0.05보다 작으므로 귀무가설을 기각한다.  \n",
    "= Age_Group과 Membership_type은 연관이 있다."
   ]
  }
 ],
 "metadata": {
  "kernelspec": {
   "display_name": "Python 3 (ipykernel)",
   "language": "python",
   "name": "python3"
  },
  "language_info": {
   "codemirror_mode": {
    "name": "ipython",
    "version": 3
   },
   "file_extension": ".py",
   "mimetype": "text/x-python",
   "name": "python",
   "nbconvert_exporter": "python",
   "pygments_lexer": "ipython3",
   "version": "3.9.7"
  }
 },
 "nbformat": 4,
 "nbformat_minor": 5
}
