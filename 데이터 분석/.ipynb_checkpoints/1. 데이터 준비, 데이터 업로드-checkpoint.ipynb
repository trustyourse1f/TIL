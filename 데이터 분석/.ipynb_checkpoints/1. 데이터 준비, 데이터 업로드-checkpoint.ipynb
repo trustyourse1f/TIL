{
 "cells": [
  {
   "cell_type": "code",
   "execution_count": 1,
   "id": "34f4339e",
   "metadata": {},
   "outputs": [
    {
     "data": {
      "text/plain": [
       "'C:\\\\Users\\\\kissd\\\\data analysis'"
      ]
     },
     "execution_count": 1,
     "metadata": {},
     "output_type": "execute_result"
    }
   ],
   "source": [
    "import os\n",
    "os.getcwd()"
   ]
  },
  {
   "cell_type": "markdown",
   "id": "bc36e66d",
   "metadata": {},
   "source": [
    "패키지 : 다양한 프로그램을 누군가가 미리 만들어 누구나 사용할 수 있도록 등록해 둔 것  \n",
    "import 명령어로 불러서 사용, Anaconda 설치 시 주요 패키지가 함께  설치됨  \n",
    "\n",
    "os 패키지 : 운영체제의 기능을 사용하여 알 수 있는 정보 -> 파이썬 안에서 사용할 수 있도록 프로그램을 담고 있는 패키지"
   ]
  },
  {
   "cell_type": "markdown",
   "id": "4fc6270b",
   "metadata": {},
   "source": [
    "os.getcwd() : 현재 작업 디렉토리 - current working directory를 찾아주는 함수"
   ]
  },
  {
   "cell_type": "code",
   "execution_count": 2,
   "id": "86e1bbdd",
   "metadata": {},
   "outputs": [],
   "source": [
    "import pandas as pd"
   ]
  },
  {
   "cell_type": "markdown",
   "id": "03204ae9",
   "metadata": {},
   "source": [
    "pandas : 데이터 분석에 널리 사용되는 패키지 중 하나  \n",
    "엑셀의 표같이 구성된 데이터를 다루기 쉽게 만들어주는 강력한 패키지 "
   ]
  },
  {
   "cell_type": "code",
   "execution_count": 1,
   "id": "20513301",
   "metadata": {},
   "outputs": [
    {
     "ename": "NameError",
     "evalue": "name 'pd' is not defined",
     "output_type": "error",
     "traceback": [
      "\u001b[1;31m---------------------------------------------------------------------------\u001b[0m",
      "\u001b[1;31mNameError\u001b[0m                                 Traceback (most recent call last)",
      "\u001b[1;32m~\\AppData\\Local\\Temp/ipykernel_11852/2744459310.py\u001b[0m in \u001b[0;36m<module>\u001b[1;34m\u001b[0m\n\u001b[1;32m----> 1\u001b[1;33m \u001b[0mbike_data\u001b[0m \u001b[1;33m=\u001b[0m \u001b[0mpd\u001b[0m\u001b[1;33m.\u001b[0m\u001b[0mread_csv\u001b[0m\u001b[1;33m(\u001b[0m\u001b[1;34m'bike_usage_0.csv_0.csv'\u001b[0m\u001b[1;33m)\u001b[0m\u001b[1;33m\u001b[0m\u001b[1;33m\u001b[0m\u001b[0m\n\u001b[0m",
      "\u001b[1;31mNameError\u001b[0m: name 'pd' is not defined"
     ]
    }
   ],
   "source": [
    "bike_data = pd.read_csv('bike_usage_0.csv_0.csv')"
   ]
  },
  {
   "cell_type": "code",
   "execution_count": null,
   "id": "e28c4f8f",
   "metadata": {},
   "outputs": [],
   "source": []
  }
 ],
 "metadata": {
  "kernelspec": {
   "display_name": "Python 3 (ipykernel)",
   "language": "python",
   "name": "python3"
  },
  "language_info": {
   "codemirror_mode": {
    "name": "ipython",
    "version": 3
   },
   "file_extension": ".py",
   "mimetype": "text/x-python",
   "name": "python",
   "nbconvert_exporter": "python",
   "pygments_lexer": "ipython3",
   "version": "3.9.7"
  }
 },
 "nbformat": 4,
 "nbformat_minor": 5
}
