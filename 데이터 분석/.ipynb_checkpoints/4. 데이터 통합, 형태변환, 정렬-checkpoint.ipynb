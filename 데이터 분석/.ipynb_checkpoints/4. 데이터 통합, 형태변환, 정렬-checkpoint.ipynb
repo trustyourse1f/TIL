{
 "cells": [
  {
   "cell_type": "code",
   "execution_count": 1,
   "id": "3d43ef54",
   "metadata": {},
   "outputs": [],
   "source": [
    "import pandas as pd"
   ]
  },
  {
   "cell_type": "code",
   "execution_count": 3,
   "id": "dc7d63dd",
   "metadata": {},
   "outputs": [],
   "source": [
    "bike_data = pd.read_csv('bike_usage_0.csv', encoding = 'ANSI')"
   ]
  },
  {
   "cell_type": "code",
   "execution_count": 4,
   "id": "6ecc8984",
   "metadata": {},
   "outputs": [
    {
     "name": "stdout",
     "output_type": "stream",
     "text": [
      "<class 'pandas.core.frame.DataFrame'>\n",
      "RangeIndex: 36595 entries, 0 to 36594\n",
      "Data columns (total 15 columns):\n",
      " #   Column           Non-Null Count  Dtype \n",
      "---  ------           --------------  ----- \n",
      " 0   Date_out         36595 non-null  object\n",
      " 1   Time_out         36595 non-null  int64 \n",
      " 2   Station_no_out   36595 non-null  int64 \n",
      " 3   Station_out      36595 non-null  object\n",
      " 4   Membership_type  36595 non-null  object\n",
      " 5   Gender           18262 non-null  object\n",
      " 6   Age_Group        36595 non-null  object\n",
      " 7   Momentum         36595 non-null  object\n",
      " 8   Station_no_in    36595 non-null  int64 \n",
      " 9   Station_in       36595 non-null  object\n",
      " 10  Date_in          36595 non-null  object\n",
      " 11  Bike_no          36595 non-null  object\n",
      " 12  Carbon_amount    36595 non-null  object\n",
      " 13  Distance         36595 non-null  int64 \n",
      " 14  Duration         36595 non-null  int64 \n",
      "dtypes: int64(5), object(10)\n",
      "memory usage: 4.2+ MB\n"
     ]
    }
   ],
   "source": [
    "bike_data.info()"
   ]
  },
  {
   "cell_type": "code",
   "execution_count": 5,
   "id": "8b183544",
   "metadata": {},
   "outputs": [],
   "source": [
    "stations = pd.read_csv('stations.csv')"
   ]
  },
  {
   "cell_type": "code",
   "execution_count": 6,
   "id": "9a49f18b",
   "metadata": {},
   "outputs": [
    {
     "data": {
      "text/html": [
       "<div>\n",
       "<style scoped>\n",
       "    .dataframe tbody tr th:only-of-type {\n",
       "        vertical-align: middle;\n",
       "    }\n",
       "\n",
       "    .dataframe tbody tr th {\n",
       "        vertical-align: top;\n",
       "    }\n",
       "\n",
       "    .dataframe thead th {\n",
       "        text-align: right;\n",
       "    }\n",
       "</style>\n",
       "<table border=\"1\" class=\"dataframe\">\n",
       "  <thead>\n",
       "    <tr style=\"text-align: right;\">\n",
       "      <th></th>\n",
       "      <th>Gu</th>\n",
       "      <th>ID</th>\n",
       "      <th>Station</th>\n",
       "      <th>Address</th>\n",
       "      <th>Latitude</th>\n",
       "      <th>Longitude</th>\n",
       "      <th>Date</th>\n",
       "      <th>No_of_Racks</th>\n",
       "    </tr>\n",
       "  </thead>\n",
       "  <tbody>\n",
       "    <tr>\n",
       "      <th>0</th>\n",
       "      <td>마포구</td>\n",
       "      <td>101</td>\n",
       "      <td>101. (구)합정동 주민센터</td>\n",
       "      <td>서울특별시 마포구 동교로8길 58</td>\n",
       "      <td>37.549561</td>\n",
       "      <td>126.905754</td>\n",
       "      <td>2015-09-06 23:40</td>\n",
       "      <td>5</td>\n",
       "    </tr>\n",
       "    <tr>\n",
       "      <th>1</th>\n",
       "      <td>마포구</td>\n",
       "      <td>102</td>\n",
       "      <td>102. 망원역 1번출구 앞</td>\n",
       "      <td>서울특별시 마포구 월드컵로 72</td>\n",
       "      <td>37.555649</td>\n",
       "      <td>126.910629</td>\n",
       "      <td>2015-09-06 23:42</td>\n",
       "      <td>20</td>\n",
       "    </tr>\n",
       "    <tr>\n",
       "      <th>2</th>\n",
       "      <td>마포구</td>\n",
       "      <td>103</td>\n",
       "      <td>103. 망원역 2번출구 앞</td>\n",
       "      <td>서울특별시 마포구 월드컵로 79</td>\n",
       "      <td>37.554951</td>\n",
       "      <td>126.910835</td>\n",
       "      <td>2015-09-06 23:43</td>\n",
       "      <td>14</td>\n",
       "    </tr>\n",
       "    <tr>\n",
       "      <th>3</th>\n",
       "      <td>마포구</td>\n",
       "      <td>104</td>\n",
       "      <td>104. 합정역 1번출구 앞</td>\n",
       "      <td>서울특별시 마포구 양화로 59</td>\n",
       "      <td>37.550629</td>\n",
       "      <td>126.914986</td>\n",
       "      <td>2015-09-06 23:44</td>\n",
       "      <td>13</td>\n",
       "    </tr>\n",
       "    <tr>\n",
       "      <th>4</th>\n",
       "      <td>마포구</td>\n",
       "      <td>105</td>\n",
       "      <td>105. 합정역 5번출구 앞</td>\n",
       "      <td>서울특별시 마포구 양화로 48</td>\n",
       "      <td>37.550007</td>\n",
       "      <td>126.914825</td>\n",
       "      <td>2015-09-06 23:45</td>\n",
       "      <td>5</td>\n",
       "    </tr>\n",
       "    <tr>\n",
       "      <th>...</th>\n",
       "      <td>...</td>\n",
       "      <td>...</td>\n",
       "      <td>...</td>\n",
       "      <td>...</td>\n",
       "      <td>...</td>\n",
       "      <td>...</td>\n",
       "      <td>...</td>\n",
       "      <td>...</td>\n",
       "    </tr>\n",
       "    <tr>\n",
       "      <th>366</th>\n",
       "      <td>서초구</td>\n",
       "      <td>2510</td>\n",
       "      <td>JW타워</td>\n",
       "      <td>서초구 서초동 1748-45</td>\n",
       "      <td>37.483040</td>\n",
       "      <td>127.021461</td>\n",
       "      <td>2019.03.26</td>\n",
       "      <td>8</td>\n",
       "    </tr>\n",
       "    <tr>\n",
       "      <th>367</th>\n",
       "      <td>서초구</td>\n",
       "      <td>2511</td>\n",
       "      <td>이수역 6번출구 앞</td>\n",
       "      <td>서초구 방배동 438-35</td>\n",
       "      <td>37.483662</td>\n",
       "      <td>126.982323</td>\n",
       "      <td>2019.03.14</td>\n",
       "      <td>20</td>\n",
       "    </tr>\n",
       "    <tr>\n",
       "      <th>368</th>\n",
       "      <td>은평구</td>\n",
       "      <td>972</td>\n",
       "      <td>수색역</td>\n",
       "      <td>수색로 261</td>\n",
       "      <td>37.582180</td>\n",
       "      <td>126.894943</td>\n",
       "      <td>2019.06.14</td>\n",
       "      <td>20</td>\n",
       "    </tr>\n",
       "    <tr>\n",
       "      <th>369</th>\n",
       "      <td>마포구</td>\n",
       "      <td>440</td>\n",
       "      <td>하늘공원 입구</td>\n",
       "      <td>마포구 하늘공원로 108-2</td>\n",
       "      <td>37.570006</td>\n",
       "      <td>126.881149</td>\n",
       "      <td>2019.08.02</td>\n",
       "      <td>15</td>\n",
       "    </tr>\n",
       "    <tr>\n",
       "      <th>370</th>\n",
       "      <td>서초구</td>\n",
       "      <td>2265</td>\n",
       "      <td>2265. 이수고가차도 남단</td>\n",
       "      <td>서울특별시 서초구 동작대로 204 청남빌딩</td>\n",
       "      <td>37.494743</td>\n",
       "      <td>126.983063</td>\n",
       "      <td>2017-08-09 11:16</td>\n",
       "      <td>10</td>\n",
       "    </tr>\n",
       "  </tbody>\n",
       "</table>\n",
       "<p>371 rows × 8 columns</p>\n",
       "</div>"
      ],
      "text/plain": [
       "      Gu    ID           Station                  Address   Latitude  \\\n",
       "0    마포구   101  101. (구)합정동 주민센터       서울특별시 마포구 동교로8길 58  37.549561   \n",
       "1    마포구   102   102. 망원역 1번출구 앞        서울특별시 마포구 월드컵로 72  37.555649   \n",
       "2    마포구   103   103. 망원역 2번출구 앞        서울특별시 마포구 월드컵로 79  37.554951   \n",
       "3    마포구   104   104. 합정역 1번출구 앞         서울특별시 마포구 양화로 59  37.550629   \n",
       "4    마포구   105   105. 합정역 5번출구 앞         서울특별시 마포구 양화로 48  37.550007   \n",
       "..   ...   ...               ...                      ...        ...   \n",
       "366  서초구  2510              JW타워          서초구 서초동 1748-45  37.483040   \n",
       "367  서초구  2511        이수역 6번출구 앞           서초구 방배동 438-35  37.483662   \n",
       "368  은평구   972               수색역                  수색로 261  37.582180   \n",
       "369  마포구   440           하늘공원 입구          마포구 하늘공원로 108-2  37.570006   \n",
       "370  서초구  2265   2265. 이수고가차도 남단  서울특별시 서초구 동작대로 204 청남빌딩  37.494743   \n",
       "\n",
       "      Longitude              Date  No_of_Racks  \n",
       "0    126.905754  2015-09-06 23:40            5  \n",
       "1    126.910629  2015-09-06 23:42           20  \n",
       "2    126.910835  2015-09-06 23:43           14  \n",
       "3    126.914986  2015-09-06 23:44           13  \n",
       "4    126.914825  2015-09-06 23:45            5  \n",
       "..          ...               ...          ...  \n",
       "366  127.021461        2019.03.26            8  \n",
       "367  126.982323        2019.03.14           20  \n",
       "368  126.894943        2019.06.14           20  \n",
       "369  126.881149        2019.08.02           15  \n",
       "370  126.983063  2017-08-09 11:16           10  \n",
       "\n",
       "[371 rows x 8 columns]"
      ]
     },
     "execution_count": 6,
     "metadata": {},
     "output_type": "execute_result"
    }
   ],
   "source": [
    "stations"
   ]
  },
  {
   "cell_type": "markdown",
   "id": "fd43745f",
   "metadata": {},
   "source": [
    "테이블 결합에서 중요한 것 : Join Type, Key  \n",
    "Key : 두 테이블 간에 공통으로 존재해서 연결고리 역할을 하는 컬럼. 두 테이블의 결합 기준 정의  \n",
    "하나 또는 복수의 공통 컬럼 지정 가능  \n",
    "Join Type : Output 테이블에 값을 채우는 방법. 사용자가 선택한 Join Type을 기준으로 데이터가 기록됨"
   ]
  },
  {
   "cell_type": "code",
   "execution_count": 9,
   "id": "9b588bba",
   "metadata": {},
   "outputs": [],
   "source": [
    "bike_data2 = pd.merge(bike_data, stations, left_on = 'Station_no_out', right_on = 'ID')"
   ]
  },
  {
   "cell_type": "markdown",
   "id": "48939ad0",
   "metadata": {},
   "source": [
    "merge()함수 내부 : (왼쪽 테이블, 오른쪽 테이블, 왼쪽 테이블에서 key값으로 사용될 컬럼, 오른쪽 테이블에서 key값으로 사용될 컬럼)  \n",
    "두 테이블의 key값이 일치하는 경우 양쪽 테이블의 행을 하나로 합하여 결합된 결과 테이블에 포함시킴"
   ]
  },
  {
   "cell_type": "code",
   "execution_count": 10,
   "id": "b5b84f34",
   "metadata": {},
   "outputs": [
    {
     "name": "stdout",
     "output_type": "stream",
     "text": [
      "<class 'pandas.core.frame.DataFrame'>\n",
      "Int64Index: 36595 entries, 0 to 36594\n",
      "Data columns (total 23 columns):\n",
      " #   Column           Non-Null Count  Dtype  \n",
      "---  ------           --------------  -----  \n",
      " 0   Date_out         36595 non-null  object \n",
      " 1   Time_out         36595 non-null  int64  \n",
      " 2   Station_no_out   36595 non-null  int64  \n",
      " 3   Station_out      36595 non-null  object \n",
      " 4   Membership_type  36595 non-null  object \n",
      " 5   Gender           18262 non-null  object \n",
      " 6   Age_Group        36595 non-null  object \n",
      " 7   Momentum         36595 non-null  object \n",
      " 8   Station_no_in    36595 non-null  int64  \n",
      " 9   Station_in       36595 non-null  object \n",
      " 10  Date_in          36595 non-null  object \n",
      " 11  Bike_no          36595 non-null  object \n",
      " 12  Carbon_amount    36595 non-null  object \n",
      " 13  Distance         36595 non-null  int64  \n",
      " 14  Duration         36595 non-null  int64  \n",
      " 15  Gu               36595 non-null  object \n",
      " 16  ID               36595 non-null  int64  \n",
      " 17  Station          36595 non-null  object \n",
      " 18  Address          36595 non-null  object \n",
      " 19  Latitude         36595 non-null  float64\n",
      " 20  Longitude        36595 non-null  float64\n",
      " 21  Date             36595 non-null  object \n",
      " 22  No_of_Racks      36595 non-null  int64  \n",
      "dtypes: float64(2), int64(7), object(14)\n",
      "memory usage: 6.7+ MB\n"
     ]
    }
   ],
   "source": [
    "bike_data2.info()"
   ]
  },
  {
   "cell_type": "markdown",
   "id": "17c7ce24",
   "metadata": {},
   "source": [
    "Join Type - How인자  \n",
    "디폴트 값인 Inner 이외에도 다른 방식의 결합이 필요한 경우 사용  \n",
    "\n",
    "inner, left, right, outer가 있음"
   ]
  },
  {
   "cell_type": "code",
   "execution_count": 11,
   "id": "0a0842de",
   "metadata": {},
   "outputs": [],
   "source": [
    "df1 = pd.DataFrame({'a':['a', 'b', 'c'], 'b':[1, 2, 3]})"
   ]
  },
  {
   "cell_type": "code",
   "execution_count": 12,
   "id": "566bac09",
   "metadata": {},
   "outputs": [
    {
     "data": {
      "text/html": [
       "<div>\n",
       "<style scoped>\n",
       "    .dataframe tbody tr th:only-of-type {\n",
       "        vertical-align: middle;\n",
       "    }\n",
       "\n",
       "    .dataframe tbody tr th {\n",
       "        vertical-align: top;\n",
       "    }\n",
       "\n",
       "    .dataframe thead th {\n",
       "        text-align: right;\n",
       "    }\n",
       "</style>\n",
       "<table border=\"1\" class=\"dataframe\">\n",
       "  <thead>\n",
       "    <tr style=\"text-align: right;\">\n",
       "      <th></th>\n",
       "      <th>a</th>\n",
       "      <th>b</th>\n",
       "    </tr>\n",
       "  </thead>\n",
       "  <tbody>\n",
       "    <tr>\n",
       "      <th>0</th>\n",
       "      <td>a</td>\n",
       "      <td>1</td>\n",
       "    </tr>\n",
       "    <tr>\n",
       "      <th>1</th>\n",
       "      <td>b</td>\n",
       "      <td>2</td>\n",
       "    </tr>\n",
       "    <tr>\n",
       "      <th>2</th>\n",
       "      <td>c</td>\n",
       "      <td>3</td>\n",
       "    </tr>\n",
       "  </tbody>\n",
       "</table>\n",
       "</div>"
      ],
      "text/plain": [
       "   a  b\n",
       "0  a  1\n",
       "1  b  2\n",
       "2  c  3"
      ]
     },
     "execution_count": 12,
     "metadata": {},
     "output_type": "execute_result"
    }
   ],
   "source": [
    "df1"
   ]
  },
  {
   "cell_type": "code",
   "execution_count": 13,
   "id": "6a9be616",
   "metadata": {},
   "outputs": [],
   "source": [
    "df2 = pd.DataFrame({'a':['a', 'b', 'd'], 'c':['가', '나', '다']})"
   ]
  },
  {
   "cell_type": "code",
   "execution_count": 14,
   "id": "1e561c33",
   "metadata": {},
   "outputs": [
    {
     "data": {
      "text/html": [
       "<div>\n",
       "<style scoped>\n",
       "    .dataframe tbody tr th:only-of-type {\n",
       "        vertical-align: middle;\n",
       "    }\n",
       "\n",
       "    .dataframe tbody tr th {\n",
       "        vertical-align: top;\n",
       "    }\n",
       "\n",
       "    .dataframe thead th {\n",
       "        text-align: right;\n",
       "    }\n",
       "</style>\n",
       "<table border=\"1\" class=\"dataframe\">\n",
       "  <thead>\n",
       "    <tr style=\"text-align: right;\">\n",
       "      <th></th>\n",
       "      <th>a</th>\n",
       "      <th>c</th>\n",
       "    </tr>\n",
       "  </thead>\n",
       "  <tbody>\n",
       "    <tr>\n",
       "      <th>0</th>\n",
       "      <td>a</td>\n",
       "      <td>가</td>\n",
       "    </tr>\n",
       "    <tr>\n",
       "      <th>1</th>\n",
       "      <td>b</td>\n",
       "      <td>나</td>\n",
       "    </tr>\n",
       "    <tr>\n",
       "      <th>2</th>\n",
       "      <td>d</td>\n",
       "      <td>다</td>\n",
       "    </tr>\n",
       "  </tbody>\n",
       "</table>\n",
       "</div>"
      ],
      "text/plain": [
       "   a  c\n",
       "0  a  가\n",
       "1  b  나\n",
       "2  d  다"
      ]
     },
     "execution_count": 14,
     "metadata": {},
     "output_type": "execute_result"
    }
   ],
   "source": [
    "df2"
   ]
  },
  {
   "cell_type": "code",
   "execution_count": 15,
   "id": "6f26864e",
   "metadata": {},
   "outputs": [
    {
     "data": {
      "text/html": [
       "<div>\n",
       "<style scoped>\n",
       "    .dataframe tbody tr th:only-of-type {\n",
       "        vertical-align: middle;\n",
       "    }\n",
       "\n",
       "    .dataframe tbody tr th {\n",
       "        vertical-align: top;\n",
       "    }\n",
       "\n",
       "    .dataframe thead th {\n",
       "        text-align: right;\n",
       "    }\n",
       "</style>\n",
       "<table border=\"1\" class=\"dataframe\">\n",
       "  <thead>\n",
       "    <tr style=\"text-align: right;\">\n",
       "      <th></th>\n",
       "      <th>a</th>\n",
       "      <th>b</th>\n",
       "      <th>c</th>\n",
       "    </tr>\n",
       "  </thead>\n",
       "  <tbody>\n",
       "    <tr>\n",
       "      <th>0</th>\n",
       "      <td>a</td>\n",
       "      <td>1</td>\n",
       "      <td>가</td>\n",
       "    </tr>\n",
       "    <tr>\n",
       "      <th>1</th>\n",
       "      <td>b</td>\n",
       "      <td>2</td>\n",
       "      <td>나</td>\n",
       "    </tr>\n",
       "  </tbody>\n",
       "</table>\n",
       "</div>"
      ],
      "text/plain": [
       "   a  b  c\n",
       "0  a  1  가\n",
       "1  b  2  나"
      ]
     },
     "execution_count": 15,
     "metadata": {},
     "output_type": "execute_result"
    }
   ],
   "source": [
    "pd.merge(df1, df2, how = 'inner', on = 'a')"
   ]
  },
  {
   "cell_type": "markdown",
   "id": "7249d406",
   "metadata": {},
   "source": [
    "on : 양쪽에 동일한 key컬럼이 있을 경우 하나로 표현 가능  \n",
    "left_on, right_on : key로 사용할 컬럼의 이름이 다를 때 사용"
   ]
  },
  {
   "cell_type": "code",
   "execution_count": 16,
   "id": "c3b419b2",
   "metadata": {},
   "outputs": [
    {
     "data": {
      "text/html": [
       "<div>\n",
       "<style scoped>\n",
       "    .dataframe tbody tr th:only-of-type {\n",
       "        vertical-align: middle;\n",
       "    }\n",
       "\n",
       "    .dataframe tbody tr th {\n",
       "        vertical-align: top;\n",
       "    }\n",
       "\n",
       "    .dataframe thead th {\n",
       "        text-align: right;\n",
       "    }\n",
       "</style>\n",
       "<table border=\"1\" class=\"dataframe\">\n",
       "  <thead>\n",
       "    <tr style=\"text-align: right;\">\n",
       "      <th></th>\n",
       "      <th>a</th>\n",
       "      <th>b</th>\n",
       "      <th>c</th>\n",
       "    </tr>\n",
       "  </thead>\n",
       "  <tbody>\n",
       "    <tr>\n",
       "      <th>0</th>\n",
       "      <td>a</td>\n",
       "      <td>1.0</td>\n",
       "      <td>가</td>\n",
       "    </tr>\n",
       "    <tr>\n",
       "      <th>1</th>\n",
       "      <td>b</td>\n",
       "      <td>2.0</td>\n",
       "      <td>나</td>\n",
       "    </tr>\n",
       "    <tr>\n",
       "      <th>2</th>\n",
       "      <td>c</td>\n",
       "      <td>3.0</td>\n",
       "      <td>NaN</td>\n",
       "    </tr>\n",
       "    <tr>\n",
       "      <th>3</th>\n",
       "      <td>d</td>\n",
       "      <td>NaN</td>\n",
       "      <td>다</td>\n",
       "    </tr>\n",
       "  </tbody>\n",
       "</table>\n",
       "</div>"
      ],
      "text/plain": [
       "   a    b    c\n",
       "0  a  1.0    가\n",
       "1  b  2.0    나\n",
       "2  c  3.0  NaN\n",
       "3  d  NaN    다"
      ]
     },
     "execution_count": 16,
     "metadata": {},
     "output_type": "execute_result"
    }
   ],
   "source": [
    "pd.merge(df1, df2, how = 'outer', on = 'a')"
   ]
  },
  {
   "cell_type": "code",
   "execution_count": 17,
   "id": "c28889a4",
   "metadata": {},
   "outputs": [
    {
     "data": {
      "text/html": [
       "<div>\n",
       "<style scoped>\n",
       "    .dataframe tbody tr th:only-of-type {\n",
       "        vertical-align: middle;\n",
       "    }\n",
       "\n",
       "    .dataframe tbody tr th {\n",
       "        vertical-align: top;\n",
       "    }\n",
       "\n",
       "    .dataframe thead th {\n",
       "        text-align: right;\n",
       "    }\n",
       "</style>\n",
       "<table border=\"1\" class=\"dataframe\">\n",
       "  <thead>\n",
       "    <tr style=\"text-align: right;\">\n",
       "      <th></th>\n",
       "      <th>a</th>\n",
       "      <th>b</th>\n",
       "      <th>c</th>\n",
       "    </tr>\n",
       "  </thead>\n",
       "  <tbody>\n",
       "    <tr>\n",
       "      <th>0</th>\n",
       "      <td>a</td>\n",
       "      <td>1</td>\n",
       "      <td>가</td>\n",
       "    </tr>\n",
       "    <tr>\n",
       "      <th>1</th>\n",
       "      <td>b</td>\n",
       "      <td>2</td>\n",
       "      <td>나</td>\n",
       "    </tr>\n",
       "    <tr>\n",
       "      <th>2</th>\n",
       "      <td>c</td>\n",
       "      <td>3</td>\n",
       "      <td>NaN</td>\n",
       "    </tr>\n",
       "  </tbody>\n",
       "</table>\n",
       "</div>"
      ],
      "text/plain": [
       "   a  b    c\n",
       "0  a  1    가\n",
       "1  b  2    나\n",
       "2  c  3  NaN"
      ]
     },
     "execution_count": 17,
     "metadata": {},
     "output_type": "execute_result"
    }
   ],
   "source": [
    "pd.merge(df1, df2, how = 'left', on = 'a')"
   ]
  },
  {
   "cell_type": "code",
   "execution_count": 18,
   "id": "0c440f70",
   "metadata": {},
   "outputs": [
    {
     "data": {
      "text/html": [
       "<div>\n",
       "<style scoped>\n",
       "    .dataframe tbody tr th:only-of-type {\n",
       "        vertical-align: middle;\n",
       "    }\n",
       "\n",
       "    .dataframe tbody tr th {\n",
       "        vertical-align: top;\n",
       "    }\n",
       "\n",
       "    .dataframe thead th {\n",
       "        text-align: right;\n",
       "    }\n",
       "</style>\n",
       "<table border=\"1\" class=\"dataframe\">\n",
       "  <thead>\n",
       "    <tr style=\"text-align: right;\">\n",
       "      <th></th>\n",
       "      <th>a</th>\n",
       "      <th>b</th>\n",
       "      <th>c</th>\n",
       "    </tr>\n",
       "  </thead>\n",
       "  <tbody>\n",
       "    <tr>\n",
       "      <th>0</th>\n",
       "      <td>a</td>\n",
       "      <td>1.0</td>\n",
       "      <td>가</td>\n",
       "    </tr>\n",
       "    <tr>\n",
       "      <th>1</th>\n",
       "      <td>b</td>\n",
       "      <td>2.0</td>\n",
       "      <td>나</td>\n",
       "    </tr>\n",
       "    <tr>\n",
       "      <th>2</th>\n",
       "      <td>d</td>\n",
       "      <td>NaN</td>\n",
       "      <td>다</td>\n",
       "    </tr>\n",
       "  </tbody>\n",
       "</table>\n",
       "</div>"
      ],
      "text/plain": [
       "   a    b  c\n",
       "0  a  1.0  가\n",
       "1  b  2.0  나\n",
       "2  d  NaN  다"
      ]
     },
     "execution_count": 18,
     "metadata": {},
     "output_type": "execute_result"
    }
   ],
   "source": [
    "pd.merge(df1, df2, how = 'right', on = 'a')"
   ]
  },
  {
   "cell_type": "code",
   "execution_count": null,
   "id": "d4882441",
   "metadata": {},
   "outputs": [],
   "source": []
  }
 ],
 "metadata": {
  "kernelspec": {
   "display_name": "Python 3 (ipykernel)",
   "language": "python",
   "name": "python3"
  },
  "language_info": {
   "codemirror_mode": {
    "name": "ipython",
    "version": 3
   },
   "file_extension": ".py",
   "mimetype": "text/x-python",
   "name": "python",
   "nbconvert_exporter": "python",
   "pygments_lexer": "ipython3",
   "version": "3.9.7"
  }
 },
 "nbformat": 4,
 "nbformat_minor": 5
}
