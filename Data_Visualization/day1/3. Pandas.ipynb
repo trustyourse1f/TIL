{
 "cells": [
  {
   "cell_type": "markdown",
   "id": "768fee39",
   "metadata": {},
   "source": [
    "# 3. Pandas\n",
    "판다스의 시리즈"
   ]
  },
  {
   "cell_type": "code",
   "execution_count": 1,
   "id": "3177a26d",
   "metadata": {},
   "outputs": [
    {
     "data": {
      "text/plain": [
       "0    [1, 2, 3, 4, 5]\n",
       "dtype: object"
      ]
     },
     "execution_count": 1,
     "metadata": {},
     "output_type": "execute_result"
    }
   ],
   "source": [
    "import pandas as pd\n",
    "import numpy as np\n",
    "from pandas import Series, DataFrame\n",
    "\n",
    "data_l = [1, 2, 3, 4, 5]\n",
    "e_obj = Series([data_l])\n",
    "\n",
    "e_obj"
   ]
  },
  {
   "cell_type": "code",
   "execution_count": 2,
   "id": "a419e81d",
   "metadata": {},
   "outputs": [
    {
     "data": {
      "text/plain": [
       "a    1\n",
       "b    2\n",
       "c    3\n",
       "d    4\n",
       "e    5\n",
       "dtype: int64"
      ]
     },
     "execution_count": 2,
     "metadata": {},
     "output_type": "execute_result"
    }
   ],
   "source": [
    "idx_l = ['a', 'b', 'c', 'd', 'e']\n",
    "e_obj = Series(data = data_l, index = idx_l)\n",
    "\n",
    "e_obj"
   ]
  },
  {
   "cell_type": "code",
   "execution_count": 4,
   "id": "5e36ab15",
   "metadata": {},
   "outputs": [
    {
     "data": {
      "text/plain": [
       "a    [1, 2, 3, 4, 5]\n",
       "b    [1, 2, 3, 4, 5]\n",
       "c    [1, 2, 3, 4, 5]\n",
       "d    [1, 2, 3, 4, 5]\n",
       "e                  1\n",
       "dtype: object"
      ]
     },
     "execution_count": 4,
     "metadata": {},
     "output_type": "execute_result"
    }
   ],
   "source": [
    "e_obj = Series(data = [data_l, data_l, data_l, data_l, 1], index = idx_l)\n",
    "\n",
    "e_obj"
   ]
  },
  {
   "cell_type": "code",
   "execution_count": 5,
   "id": "17bd3a49",
   "metadata": {},
   "outputs": [
    {
     "data": {
      "text/plain": [
       "Index(['a', 'b', 'c', 'd', 'e'], dtype='object')"
      ]
     },
     "execution_count": 5,
     "metadata": {},
     "output_type": "execute_result"
    }
   ],
   "source": [
    "e_obj.index"
   ]
  },
  {
   "cell_type": "code",
   "execution_count": 6,
   "id": "b1cfa292",
   "metadata": {},
   "outputs": [
    {
     "data": {
      "text/plain": [
       "array([list([1, 2, 3, 4, 5]), list([1, 2, 3, 4, 5]),\n",
       "       list([1, 2, 3, 4, 5]), list([1, 2, 3, 4, 5]), 1], dtype=object)"
      ]
     },
     "execution_count": 6,
     "metadata": {},
     "output_type": "execute_result"
    }
   ],
   "source": [
    "e_obj.values"
   ]
  },
  {
   "cell_type": "code",
   "execution_count": 7,
   "id": "fe495cfa",
   "metadata": {},
   "outputs": [
    {
     "data": {
      "text/plain": [
       "numpy.ndarray"
      ]
     },
     "execution_count": 7,
     "metadata": {},
     "output_type": "execute_result"
    }
   ],
   "source": [
    "type(e_obj.values)"
   ]
  },
  {
   "cell_type": "code",
   "execution_count": 9,
   "id": "fb476141",
   "metadata": {},
   "outputs": [
    {
     "data": {
      "text/plain": [
       "id\n",
       "a    [1, 2, 3, 4, 5]\n",
       "b    [1, 2, 3, 4, 5]\n",
       "c    [1, 2, 3, 4, 5]\n",
       "d    [1, 2, 3, 4, 5]\n",
       "e                  1\n",
       "Name: data_s, dtype: object"
      ]
     },
     "execution_count": 9,
     "metadata": {},
     "output_type": "execute_result"
    }
   ],
   "source": [
    "e_obj.name = 'data_s'\n",
    "e_obj.index.name = 'id'\n",
    "\n",
    "e_obj"
   ]
  },
  {
   "cell_type": "code",
   "execution_count": 10,
   "id": "07761731",
   "metadata": {},
   "outputs": [
    {
     "data": {
      "text/plain": [
       "a    1.0\n",
       "b    2.0\n",
       "c    3.0\n",
       "d    4.0\n",
       "e    5.0\n",
       "g    6.0\n",
       "Name: data_s, dtype: float32"
      ]
     },
     "execution_count": 10,
     "metadata": {},
     "output_type": "execute_result"
    }
   ],
   "source": [
    "dic = {'a':1, 'b':2, 'c':3, 'd':4, 'e':5, 'g':6}\n",
    "e_obj = Series(dic, dtype = np.float32, name = 'data_s')\n",
    "e_obj"
   ]
  },
  {
   "cell_type": "code",
   "execution_count": 11,
   "id": "e5ffa541",
   "metadata": {},
   "outputs": [
    {
     "data": {
      "text/plain": [
       "a    1.0\n",
       "b    2.0\n",
       "c    3.0\n",
       "d    4.0\n",
       "e    5.0\n",
       "f    NaN\n",
       "g    6.0\n",
       "dtype: float64"
      ]
     },
     "execution_count": 11,
     "metadata": {},
     "output_type": "execute_result"
    }
   ],
   "source": [
    "idx_d = ['a', 'b', 'c', 'd', 'e', 'f', 'g']\n",
    "e_obj = Series(dic, index = idx_d)\n",
    "\n",
    "e_obj"
   ]
  },
  {
   "cell_type": "code",
   "execution_count": 12,
   "id": "48ba4eec",
   "metadata": {},
   "outputs": [
    {
     "data": {
      "text/html": [
       "<div>\n",
       "<style scoped>\n",
       "    .dataframe tbody tr th:only-of-type {\n",
       "        vertical-align: middle;\n",
       "    }\n",
       "\n",
       "    .dataframe tbody tr th {\n",
       "        vertical-align: top;\n",
       "    }\n",
       "\n",
       "    .dataframe thead th {\n",
       "        text-align: right;\n",
       "    }\n",
       "</style>\n",
       "<table border=\"1\" class=\"dataframe\">\n",
       "  <thead>\n",
       "    <tr style=\"text-align: right;\">\n",
       "      <th></th>\n",
       "      <th>이름</th>\n",
       "      <th>계좌번호</th>\n",
       "      <th>금액</th>\n",
       "      <th>은행</th>\n",
       "    </tr>\n",
       "  </thead>\n",
       "  <tbody>\n",
       "    <tr>\n",
       "      <th>1번고객</th>\n",
       "      <td>홍길동</td>\n",
       "      <td>1234</td>\n",
       "      <td>10000</td>\n",
       "      <td>국민</td>\n",
       "    </tr>\n",
       "    <tr>\n",
       "      <th>2번고객</th>\n",
       "      <td>도우너</td>\n",
       "      <td>4321</td>\n",
       "      <td>100</td>\n",
       "      <td>하나</td>\n",
       "    </tr>\n",
       "    <tr>\n",
       "      <th>3번고객</th>\n",
       "      <td>희동이</td>\n",
       "      <td>4567</td>\n",
       "      <td>500</td>\n",
       "      <td>우리</td>\n",
       "    </tr>\n",
       "    <tr>\n",
       "      <th>4번고객</th>\n",
       "      <td>고길동</td>\n",
       "      <td>7890</td>\n",
       "      <td>50000</td>\n",
       "      <td>신한</td>\n",
       "    </tr>\n",
       "  </tbody>\n",
       "</table>\n",
       "</div>"
      ],
      "text/plain": [
       "       이름  계좌번호     금액  은행\n",
       "1번고객  홍길동  1234  10000  국민\n",
       "2번고객  도우너  4321    100  하나\n",
       "3번고객  희동이  4567    500  우리\n",
       "4번고객  고길동  7890  50000  신한"
      ]
     },
     "execution_count": 12,
     "metadata": {},
     "output_type": "execute_result"
    }
   ],
   "source": [
    "data = {\n",
    "    '이름' : ['홍길동', '도우너', '희동이', '고길동'],\n",
    "    '계좌번호' : ['1234', '4321', '4567', '7890'],\n",
    "    '금액' : [10000, 100, 500, 50000],\n",
    "    '은행' : ['국민', '하나', '우리', '신한']\n",
    "}\n",
    "df = DataFrame(data, index = ['1번고객', '2번고객', '3번고객', '4번고객']) #2차원\n",
    "\n",
    "df"
   ]
  },
  {
   "cell_type": "markdown",
   "id": "3f7d82c4",
   "metadata": {},
   "source": [
    "## csv파일 저장"
   ]
  },
  {
   "cell_type": "code",
   "execution_count": 15,
   "id": "a308c03e",
   "metadata": {},
   "outputs": [],
   "source": [
    "df.to_csv('data_1.csv', encoding = 'utf-8-sig') # 인덱스 포함하여 저장"
   ]
  },
  {
   "cell_type": "code",
   "execution_count": 16,
   "id": "bd061a74",
   "metadata": {},
   "outputs": [],
   "source": [
    "df.to_csv('data_2.csv', encoding = 'utf-8-sig', index = False)"
   ]
  },
  {
   "cell_type": "markdown",
   "id": "8636f74f",
   "metadata": {},
   "source": [
    "## 텍스트(.txt) 저장"
   ]
  },
  {
   "cell_type": "code",
   "execution_count": 17,
   "id": "13d19c21",
   "metadata": {},
   "outputs": [],
   "source": [
    "df.to_csv('data_3.txt', sep = '\\t', index = False)"
   ]
  },
  {
   "cell_type": "markdown",
   "id": "33578ed1",
   "metadata": {},
   "source": [
    "## Excel파일 저장"
   ]
  },
  {
   "cell_type": "code",
   "execution_count": 18,
   "id": "c0dc1295",
   "metadata": {},
   "outputs": [],
   "source": [
    "df.to_excel('data_4.xlsx')"
   ]
  },
  {
   "cell_type": "markdown",
   "id": "43a2b42e",
   "metadata": {},
   "source": [
    "## 열기"
   ]
  },
  {
   "cell_type": "code",
   "execution_count": 19,
   "id": "ca8d1d57",
   "metadata": {},
   "outputs": [
    {
     "data": {
      "text/html": [
       "<div>\n",
       "<style scoped>\n",
       "    .dataframe tbody tr th:only-of-type {\n",
       "        vertical-align: middle;\n",
       "    }\n",
       "\n",
       "    .dataframe tbody tr th {\n",
       "        vertical-align: top;\n",
       "    }\n",
       "\n",
       "    .dataframe thead th {\n",
       "        text-align: right;\n",
       "    }\n",
       "</style>\n",
       "<table border=\"1\" class=\"dataframe\">\n",
       "  <thead>\n",
       "    <tr style=\"text-align: right;\">\n",
       "      <th></th>\n",
       "      <th>Unnamed: 0</th>\n",
       "      <th>이름</th>\n",
       "      <th>계좌번호</th>\n",
       "      <th>금액</th>\n",
       "      <th>은행</th>\n",
       "    </tr>\n",
       "  </thead>\n",
       "  <tbody>\n",
       "    <tr>\n",
       "      <th>0</th>\n",
       "      <td>1번고객</td>\n",
       "      <td>홍길동</td>\n",
       "      <td>1234</td>\n",
       "      <td>10000</td>\n",
       "      <td>국민</td>\n",
       "    </tr>\n",
       "    <tr>\n",
       "      <th>1</th>\n",
       "      <td>2번고객</td>\n",
       "      <td>도우너</td>\n",
       "      <td>4321</td>\n",
       "      <td>100</td>\n",
       "      <td>하나</td>\n",
       "    </tr>\n",
       "    <tr>\n",
       "      <th>2</th>\n",
       "      <td>3번고객</td>\n",
       "      <td>희동이</td>\n",
       "      <td>4567</td>\n",
       "      <td>500</td>\n",
       "      <td>우리</td>\n",
       "    </tr>\n",
       "    <tr>\n",
       "      <th>3</th>\n",
       "      <td>4번고객</td>\n",
       "      <td>고길동</td>\n",
       "      <td>7890</td>\n",
       "      <td>50000</td>\n",
       "      <td>신한</td>\n",
       "    </tr>\n",
       "  </tbody>\n",
       "</table>\n",
       "</div>"
      ],
      "text/plain": [
       "  Unnamed: 0   이름  계좌번호     금액  은행\n",
       "0       1번고객  홍길동  1234  10000  국민\n",
       "1       2번고객  도우너  4321    100  하나\n",
       "2       3번고객  희동이  4567    500  우리\n",
       "3       4번고객  고길동  7890  50000  신한"
      ]
     },
     "execution_count": 19,
     "metadata": {},
     "output_type": "execute_result"
    }
   ],
   "source": [
    "df = pd.read_csv('data_1.csv')\n",
    "df"
   ]
  },
  {
   "cell_type": "code",
   "execution_count": 21,
   "id": "b6043b83",
   "metadata": {},
   "outputs": [
    {
     "data": {
      "text/html": [
       "<div>\n",
       "<style scoped>\n",
       "    .dataframe tbody tr th:only-of-type {\n",
       "        vertical-align: middle;\n",
       "    }\n",
       "\n",
       "    .dataframe tbody tr th {\n",
       "        vertical-align: top;\n",
       "    }\n",
       "\n",
       "    .dataframe thead th {\n",
       "        text-align: right;\n",
       "    }\n",
       "</style>\n",
       "<table border=\"1\" class=\"dataframe\">\n",
       "  <thead>\n",
       "    <tr style=\"text-align: right;\">\n",
       "      <th></th>\n",
       "      <th>이름</th>\n",
       "      <th>계좌번호</th>\n",
       "      <th>금액</th>\n",
       "      <th>은행</th>\n",
       "    </tr>\n",
       "  </thead>\n",
       "  <tbody>\n",
       "    <tr>\n",
       "      <th>0</th>\n",
       "      <td>홍길동</td>\n",
       "      <td>1234</td>\n",
       "      <td>10000</td>\n",
       "      <td>국민</td>\n",
       "    </tr>\n",
       "    <tr>\n",
       "      <th>1</th>\n",
       "      <td>도우너</td>\n",
       "      <td>4321</td>\n",
       "      <td>100</td>\n",
       "      <td>하나</td>\n",
       "    </tr>\n",
       "    <tr>\n",
       "      <th>2</th>\n",
       "      <td>희동이</td>\n",
       "      <td>4567</td>\n",
       "      <td>500</td>\n",
       "      <td>우리</td>\n",
       "    </tr>\n",
       "    <tr>\n",
       "      <th>3</th>\n",
       "      <td>고길동</td>\n",
       "      <td>7890</td>\n",
       "      <td>50000</td>\n",
       "      <td>신한</td>\n",
       "    </tr>\n",
       "  </tbody>\n",
       "</table>\n",
       "</div>"
      ],
      "text/plain": [
       "    이름  계좌번호     금액  은행\n",
       "0  홍길동  1234  10000  국민\n",
       "1  도우너  4321    100  하나\n",
       "2  희동이  4567    500  우리\n",
       "3  고길동  7890  50000  신한"
      ]
     },
     "execution_count": 21,
     "metadata": {},
     "output_type": "execute_result"
    }
   ],
   "source": [
    "df = pd.read_csv('data_2.csv')\n",
    "df"
   ]
  },
  {
   "cell_type": "code",
   "execution_count": 22,
   "id": "efcf0ec9",
   "metadata": {},
   "outputs": [
    {
     "data": {
      "text/html": [
       "<div>\n",
       "<style scoped>\n",
       "    .dataframe tbody tr th:only-of-type {\n",
       "        vertical-align: middle;\n",
       "    }\n",
       "\n",
       "    .dataframe tbody tr th {\n",
       "        vertical-align: top;\n",
       "    }\n",
       "\n",
       "    .dataframe thead th {\n",
       "        text-align: right;\n",
       "    }\n",
       "</style>\n",
       "<table border=\"1\" class=\"dataframe\">\n",
       "  <thead>\n",
       "    <tr style=\"text-align: right;\">\n",
       "      <th></th>\n",
       "      <th>홍길동</th>\n",
       "      <th>1234</th>\n",
       "      <th>10000</th>\n",
       "      <th>국민</th>\n",
       "    </tr>\n",
       "  </thead>\n",
       "  <tbody>\n",
       "    <tr>\n",
       "      <th>0</th>\n",
       "      <td>도우너</td>\n",
       "      <td>4321</td>\n",
       "      <td>100</td>\n",
       "      <td>하나</td>\n",
       "    </tr>\n",
       "    <tr>\n",
       "      <th>1</th>\n",
       "      <td>희동이</td>\n",
       "      <td>4567</td>\n",
       "      <td>500</td>\n",
       "      <td>우리</td>\n",
       "    </tr>\n",
       "    <tr>\n",
       "      <th>2</th>\n",
       "      <td>고길동</td>\n",
       "      <td>7890</td>\n",
       "      <td>50000</td>\n",
       "      <td>신한</td>\n",
       "    </tr>\n",
       "  </tbody>\n",
       "</table>\n",
       "</div>"
      ],
      "text/plain": [
       "   홍길동  1234  10000  국민\n",
       "0  도우너  4321    100  하나\n",
       "1  희동이  4567    500  우리\n",
       "2  고길동  7890  50000  신한"
      ]
     },
     "execution_count": 22,
     "metadata": {},
     "output_type": "execute_result"
    }
   ],
   "source": [
    "df = pd.read_csv('data_2.csv', skiprows = 1)\n",
    "df"
   ]
  },
  {
   "cell_type": "code",
   "execution_count": 26,
   "id": "0803dd29",
   "metadata": {},
   "outputs": [
    {
     "data": {
      "text/html": [
       "<div>\n",
       "<style scoped>\n",
       "    .dataframe tbody tr th:only-of-type {\n",
       "        vertical-align: middle;\n",
       "    }\n",
       "\n",
       "    .dataframe tbody tr th {\n",
       "        vertical-align: top;\n",
       "    }\n",
       "\n",
       "    .dataframe thead th {\n",
       "        text-align: right;\n",
       "    }\n",
       "</style>\n",
       "<table border=\"1\" class=\"dataframe\">\n",
       "  <thead>\n",
       "    <tr style=\"text-align: right;\">\n",
       "      <th></th>\n",
       "      <th>도우너</th>\n",
       "      <th>4321</th>\n",
       "      <th>100</th>\n",
       "      <th>하나</th>\n",
       "    </tr>\n",
       "  </thead>\n",
       "  <tbody>\n",
       "    <tr>\n",
       "      <th>0</th>\n",
       "      <td>희동이</td>\n",
       "      <td>4567</td>\n",
       "      <td>500</td>\n",
       "      <td>우리</td>\n",
       "    </tr>\n",
       "    <tr>\n",
       "      <th>1</th>\n",
       "      <td>고길동</td>\n",
       "      <td>7890</td>\n",
       "      <td>50000</td>\n",
       "      <td>신한</td>\n",
       "    </tr>\n",
       "  </tbody>\n",
       "</table>\n",
       "</div>"
      ],
      "text/plain": [
       "   도우너  4321    100  하나\n",
       "0  희동이  4567    500  우리\n",
       "1  고길동  7890  50000  신한"
      ]
     },
     "execution_count": 26,
     "metadata": {},
     "output_type": "execute_result"
    }
   ],
   "source": [
    "df = pd.read_csv('data_2.csv', skiprows = [0, 1])\n",
    "df"
   ]
  },
  {
   "cell_type": "code",
   "execution_count": 23,
   "id": "ee4ffbfd",
   "metadata": {},
   "outputs": [
    {
     "data": {
      "text/html": [
       "<div>\n",
       "<style scoped>\n",
       "    .dataframe tbody tr th:only-of-type {\n",
       "        vertical-align: middle;\n",
       "    }\n",
       "\n",
       "    .dataframe tbody tr th {\n",
       "        vertical-align: top;\n",
       "    }\n",
       "\n",
       "    .dataframe thead th {\n",
       "        text-align: right;\n",
       "    }\n",
       "</style>\n",
       "<table border=\"1\" class=\"dataframe\">\n",
       "  <thead>\n",
       "    <tr style=\"text-align: right;\">\n",
       "      <th></th>\n",
       "      <th>0</th>\n",
       "      <th>1</th>\n",
       "      <th>2</th>\n",
       "      <th>3</th>\n",
       "    </tr>\n",
       "  </thead>\n",
       "  <tbody>\n",
       "    <tr>\n",
       "      <th>0</th>\n",
       "      <td>도우너</td>\n",
       "      <td>4321</td>\n",
       "      <td>100</td>\n",
       "      <td>하나</td>\n",
       "    </tr>\n",
       "    <tr>\n",
       "      <th>1</th>\n",
       "      <td>희동이</td>\n",
       "      <td>4567</td>\n",
       "      <td>500</td>\n",
       "      <td>우리</td>\n",
       "    </tr>\n",
       "    <tr>\n",
       "      <th>2</th>\n",
       "      <td>고길동</td>\n",
       "      <td>7890</td>\n",
       "      <td>50000</td>\n",
       "      <td>신한</td>\n",
       "    </tr>\n",
       "  </tbody>\n",
       "</table>\n",
       "</div>"
      ],
      "text/plain": [
       "     0     1      2   3\n",
       "0  도우너  4321    100  하나\n",
       "1  희동이  4567    500  우리\n",
       "2  고길동  7890  50000  신한"
      ]
     },
     "execution_count": 23,
     "metadata": {},
     "output_type": "execute_result"
    }
   ],
   "source": [
    "df = pd.read_csv('data_2.csv', skiprows = [0, 1], header = None)\n",
    "df"
   ]
  },
  {
   "cell_type": "code",
   "execution_count": 25,
   "id": "d4aec732",
   "metadata": {},
   "outputs": [
    {
     "data": {
      "text/html": [
       "<div>\n",
       "<style scoped>\n",
       "    .dataframe tbody tr th:only-of-type {\n",
       "        vertical-align: middle;\n",
       "    }\n",
       "\n",
       "    .dataframe tbody tr th {\n",
       "        vertical-align: top;\n",
       "    }\n",
       "\n",
       "    .dataframe thead th {\n",
       "        text-align: right;\n",
       "    }\n",
       "</style>\n",
       "<table border=\"1\" class=\"dataframe\">\n",
       "  <thead>\n",
       "    <tr style=\"text-align: right;\">\n",
       "      <th></th>\n",
       "      <th>이름</th>\n",
       "      <th>계좌번호</th>\n",
       "      <th>금액</th>\n",
       "      <th>은행</th>\n",
       "    </tr>\n",
       "  </thead>\n",
       "  <tbody>\n",
       "    <tr>\n",
       "      <th>0</th>\n",
       "      <td>도우너</td>\n",
       "      <td>4321</td>\n",
       "      <td>100</td>\n",
       "      <td>하나</td>\n",
       "    </tr>\n",
       "    <tr>\n",
       "      <th>1</th>\n",
       "      <td>고길동</td>\n",
       "      <td>7890</td>\n",
       "      <td>50000</td>\n",
       "      <td>신한</td>\n",
       "    </tr>\n",
       "  </tbody>\n",
       "</table>\n",
       "</div>"
      ],
      "text/plain": [
       "    이름  계좌번호     금액  은행\n",
       "0  도우너  4321    100  하나\n",
       "1  고길동  7890  50000  신한"
      ]
     },
     "execution_count": 25,
     "metadata": {},
     "output_type": "execute_result"
    }
   ],
   "source": [
    "df = pd.read_csv('data_2.csv', skiprows = [1, 3], nrows = 2)\n",
    "df"
   ]
  },
  {
   "cell_type": "code",
   "execution_count": 27,
   "id": "6028f58f",
   "metadata": {},
   "outputs": [
    {
     "data": {
      "text/html": [
       "<div>\n",
       "<style scoped>\n",
       "    .dataframe tbody tr th:only-of-type {\n",
       "        vertical-align: middle;\n",
       "    }\n",
       "\n",
       "    .dataframe tbody tr th {\n",
       "        vertical-align: top;\n",
       "    }\n",
       "\n",
       "    .dataframe thead th {\n",
       "        text-align: right;\n",
       "    }\n",
       "</style>\n",
       "<table border=\"1\" class=\"dataframe\">\n",
       "  <thead>\n",
       "    <tr style=\"text-align: right;\">\n",
       "      <th></th>\n",
       "      <th>계좌번호</th>\n",
       "      <th>금액</th>\n",
       "      <th>은행</th>\n",
       "    </tr>\n",
       "    <tr>\n",
       "      <th>이름</th>\n",
       "      <th></th>\n",
       "      <th></th>\n",
       "      <th></th>\n",
       "    </tr>\n",
       "  </thead>\n",
       "  <tbody>\n",
       "    <tr>\n",
       "      <th>홍길동</th>\n",
       "      <td>1234</td>\n",
       "      <td>10000</td>\n",
       "      <td>국민</td>\n",
       "    </tr>\n",
       "    <tr>\n",
       "      <th>도우너</th>\n",
       "      <td>4321</td>\n",
       "      <td>100</td>\n",
       "      <td>하나</td>\n",
       "    </tr>\n",
       "    <tr>\n",
       "      <th>희동이</th>\n",
       "      <td>4567</td>\n",
       "      <td>500</td>\n",
       "      <td>우리</td>\n",
       "    </tr>\n",
       "    <tr>\n",
       "      <th>고길동</th>\n",
       "      <td>7890</td>\n",
       "      <td>50000</td>\n",
       "      <td>신한</td>\n",
       "    </tr>\n",
       "  </tbody>\n",
       "</table>\n",
       "</div>"
      ],
      "text/plain": [
       "     계좌번호     금액  은행\n",
       "이름                  \n",
       "홍길동  1234  10000  국민\n",
       "도우너  4321    100  하나\n",
       "희동이  4567    500  우리\n",
       "고길동  7890  50000  신한"
      ]
     },
     "execution_count": 27,
     "metadata": {},
     "output_type": "execute_result"
    }
   ],
   "source": [
    "# df = pd.read_csv('data_3.txt', sep = '\\t', index_col = '이름')\n",
    "df = pd.read_csv('data_3.txt', sep = '\\t')\n",
    "df.set_index('이름', inplace = True)\n",
    "\n",
    "df"
   ]
  },
  {
   "cell_type": "code",
   "execution_count": 28,
   "id": "9ae3927b",
   "metadata": {},
   "outputs": [
    {
     "data": {
      "text/html": [
       "<div>\n",
       "<style scoped>\n",
       "    .dataframe tbody tr th:only-of-type {\n",
       "        vertical-align: middle;\n",
       "    }\n",
       "\n",
       "    .dataframe tbody tr th {\n",
       "        vertical-align: top;\n",
       "    }\n",
       "\n",
       "    .dataframe thead th {\n",
       "        text-align: right;\n",
       "    }\n",
       "</style>\n",
       "<table border=\"1\" class=\"dataframe\">\n",
       "  <thead>\n",
       "    <tr style=\"text-align: right;\">\n",
       "      <th></th>\n",
       "      <th>Unnamed: 0</th>\n",
       "      <th>계좌번호</th>\n",
       "      <th>금액</th>\n",
       "      <th>은행</th>\n",
       "    </tr>\n",
       "    <tr>\n",
       "      <th>이름</th>\n",
       "      <th></th>\n",
       "      <th></th>\n",
       "      <th></th>\n",
       "      <th></th>\n",
       "    </tr>\n",
       "  </thead>\n",
       "  <tbody>\n",
       "    <tr>\n",
       "      <th>홍길동</th>\n",
       "      <td>1번고객</td>\n",
       "      <td>1234</td>\n",
       "      <td>10000</td>\n",
       "      <td>국민</td>\n",
       "    </tr>\n",
       "    <tr>\n",
       "      <th>도우너</th>\n",
       "      <td>2번고객</td>\n",
       "      <td>4321</td>\n",
       "      <td>100</td>\n",
       "      <td>하나</td>\n",
       "    </tr>\n",
       "    <tr>\n",
       "      <th>희동이</th>\n",
       "      <td>3번고객</td>\n",
       "      <td>4567</td>\n",
       "      <td>500</td>\n",
       "      <td>우리</td>\n",
       "    </tr>\n",
       "    <tr>\n",
       "      <th>고길동</th>\n",
       "      <td>4번고객</td>\n",
       "      <td>7890</td>\n",
       "      <td>50000</td>\n",
       "      <td>신한</td>\n",
       "    </tr>\n",
       "  </tbody>\n",
       "</table>\n",
       "</div>"
      ],
      "text/plain": [
       "    Unnamed: 0  계좌번호     금액  은행\n",
       "이름                             \n",
       "홍길동       1번고객  1234  10000  국민\n",
       "도우너       2번고객  4321    100  하나\n",
       "희동이       3번고객  4567    500  우리\n",
       "고길동       4번고객  7890  50000  신한"
      ]
     },
     "execution_count": 28,
     "metadata": {},
     "output_type": "execute_result"
    }
   ],
   "source": [
    "df = pd.read_excel('data_4.xlsx', index_col = '이름')\n",
    "df"
   ]
  },
  {
   "cell_type": "code",
   "execution_count": 29,
   "id": "b771eb2a",
   "metadata": {},
   "outputs": [
    {
     "data": {
      "text/html": [
       "<div>\n",
       "<style scoped>\n",
       "    .dataframe tbody tr th:only-of-type {\n",
       "        vertical-align: middle;\n",
       "    }\n",
       "\n",
       "    .dataframe tbody tr th {\n",
       "        vertical-align: top;\n",
       "    }\n",
       "\n",
       "    .dataframe thead th {\n",
       "        text-align: right;\n",
       "    }\n",
       "</style>\n",
       "<table border=\"1\" class=\"dataframe\">\n",
       "  <thead>\n",
       "    <tr style=\"text-align: right;\">\n",
       "      <th></th>\n",
       "      <th>이름</th>\n",
       "      <th>은행</th>\n",
       "      <th>적금유무</th>\n",
       "    </tr>\n",
       "  </thead>\n",
       "  <tbody>\n",
       "    <tr>\n",
       "      <th>0</th>\n",
       "      <td>홍길동</td>\n",
       "      <td>국민</td>\n",
       "      <td>NaN</td>\n",
       "    </tr>\n",
       "    <tr>\n",
       "      <th>1</th>\n",
       "      <td>도우너</td>\n",
       "      <td>하나</td>\n",
       "      <td>NaN</td>\n",
       "    </tr>\n",
       "    <tr>\n",
       "      <th>2</th>\n",
       "      <td>희동이</td>\n",
       "      <td>우리</td>\n",
       "      <td>NaN</td>\n",
       "    </tr>\n",
       "    <tr>\n",
       "      <th>3</th>\n",
       "      <td>고길동</td>\n",
       "      <td>신한</td>\n",
       "      <td>NaN</td>\n",
       "    </tr>\n",
       "  </tbody>\n",
       "</table>\n",
       "</div>"
      ],
      "text/plain": [
       "    이름  은행 적금유무\n",
       "0  홍길동  국민  NaN\n",
       "1  도우너  하나  NaN\n",
       "2  희동이  우리  NaN\n",
       "3  고길동  신한  NaN"
      ]
     },
     "execution_count": 29,
     "metadata": {},
     "output_type": "execute_result"
    }
   ],
   "source": [
    "data = {\n",
    "    '이름' : ['홍길동', '도우너', '희동이', '고길동'],\n",
    "    '계좌번호' : ['1234', '4321', '4567', '7890'],\n",
    "    '금액' : [10000, 100, 500, 50000],\n",
    "    '은행' : ['국민', '하나', '우리', '신한']\n",
    "}\n",
    "ex_df = DataFrame(data, columns = ['이름', '은행', '적금유무'])\n",
    "\n",
    "ex_df"
   ]
  },
  {
   "cell_type": "code",
   "execution_count": 30,
   "id": "72f1a896",
   "metadata": {},
   "outputs": [
    {
     "data": {
      "text/html": [
       "<div>\n",
       "<style scoped>\n",
       "    .dataframe tbody tr th:only-of-type {\n",
       "        vertical-align: middle;\n",
       "    }\n",
       "\n",
       "    .dataframe tbody tr th {\n",
       "        vertical-align: top;\n",
       "    }\n",
       "\n",
       "    .dataframe thead th {\n",
       "        text-align: right;\n",
       "    }\n",
       "</style>\n",
       "<table border=\"1\" class=\"dataframe\">\n",
       "  <thead>\n",
       "    <tr style=\"text-align: right;\">\n",
       "      <th></th>\n",
       "      <th>이름</th>\n",
       "      <th>은행</th>\n",
       "      <th>적금유무</th>\n",
       "    </tr>\n",
       "  </thead>\n",
       "  <tbody>\n",
       "    <tr>\n",
       "      <th>0</th>\n",
       "      <td>홍길동</td>\n",
       "      <td>국민</td>\n",
       "      <td>NaN</td>\n",
       "    </tr>\n",
       "    <tr>\n",
       "      <th>1</th>\n",
       "      <td>도우너</td>\n",
       "      <td>하나</td>\n",
       "      <td>NaN</td>\n",
       "    </tr>\n",
       "    <tr>\n",
       "      <th>2</th>\n",
       "      <td>희동이</td>\n",
       "      <td>우리</td>\n",
       "      <td>NaN</td>\n",
       "    </tr>\n",
       "  </tbody>\n",
       "</table>\n",
       "</div>"
      ],
      "text/plain": [
       "    이름  은행 적금유무\n",
       "0  홍길동  국민  NaN\n",
       "1  도우너  하나  NaN\n",
       "2  희동이  우리  NaN"
      ]
     },
     "execution_count": 30,
     "metadata": {},
     "output_type": "execute_result"
    }
   ],
   "source": [
    "ex_df.head(3)"
   ]
  },
  {
   "cell_type": "code",
   "execution_count": 31,
   "id": "1b8ffff2",
   "metadata": {},
   "outputs": [
    {
     "data": {
      "text/html": [
       "<div>\n",
       "<style scoped>\n",
       "    .dataframe tbody tr th:only-of-type {\n",
       "        vertical-align: middle;\n",
       "    }\n",
       "\n",
       "    .dataframe tbody tr th {\n",
       "        vertical-align: top;\n",
       "    }\n",
       "\n",
       "    .dataframe thead th {\n",
       "        text-align: right;\n",
       "    }\n",
       "</style>\n",
       "<table border=\"1\" class=\"dataframe\">\n",
       "  <thead>\n",
       "    <tr style=\"text-align: right;\">\n",
       "      <th></th>\n",
       "      <th>0</th>\n",
       "      <th>1</th>\n",
       "      <th>2</th>\n",
       "    </tr>\n",
       "  </thead>\n",
       "  <tbody>\n",
       "    <tr>\n",
       "      <th>이름</th>\n",
       "      <td>홍길동</td>\n",
       "      <td>도우너</td>\n",
       "      <td>희동이</td>\n",
       "    </tr>\n",
       "    <tr>\n",
       "      <th>은행</th>\n",
       "      <td>국민</td>\n",
       "      <td>하나</td>\n",
       "      <td>우리</td>\n",
       "    </tr>\n",
       "    <tr>\n",
       "      <th>적금유무</th>\n",
       "      <td>NaN</td>\n",
       "      <td>NaN</td>\n",
       "      <td>NaN</td>\n",
       "    </tr>\n",
       "  </tbody>\n",
       "</table>\n",
       "</div>"
      ],
      "text/plain": [
       "        0    1    2\n",
       "이름    홍길동  도우너  희동이\n",
       "은행     국민   하나   우리\n",
       "적금유무  NaN  NaN  NaN"
      ]
     },
     "execution_count": 31,
     "metadata": {},
     "output_type": "execute_result"
    }
   ],
   "source": [
    "ex_df.head(3).T"
   ]
  },
  {
   "cell_type": "code",
   "execution_count": 33,
   "id": "cafa6daf",
   "metadata": {},
   "outputs": [
    {
     "data": {
      "text/html": [
       "<div>\n",
       "<style scoped>\n",
       "    .dataframe tbody tr th:only-of-type {\n",
       "        vertical-align: middle;\n",
       "    }\n",
       "\n",
       "    .dataframe tbody tr th {\n",
       "        vertical-align: top;\n",
       "    }\n",
       "\n",
       "    .dataframe thead th {\n",
       "        text-align: right;\n",
       "    }\n",
       "</style>\n",
       "<table border=\"1\" class=\"dataframe\">\n",
       "  <thead>\n",
       "    <tr style=\"text-align: right;\">\n",
       "      <th></th>\n",
       "      <th>Unnamed: 0</th>\n",
       "      <th>이름</th>\n",
       "      <th>계좌번호</th>\n",
       "      <th>금액</th>\n",
       "      <th>은행</th>\n",
       "    </tr>\n",
       "  </thead>\n",
       "  <tbody>\n",
       "    <tr>\n",
       "      <th>0</th>\n",
       "      <td>1번고객</td>\n",
       "      <td>홍길동</td>\n",
       "      <td>1234</td>\n",
       "      <td>10000</td>\n",
       "      <td>국민</td>\n",
       "    </tr>\n",
       "    <tr>\n",
       "      <th>1</th>\n",
       "      <td>2번고객</td>\n",
       "      <td>도우너</td>\n",
       "      <td>4321</td>\n",
       "      <td>100</td>\n",
       "      <td>하나</td>\n",
       "    </tr>\n",
       "    <tr>\n",
       "      <th>2</th>\n",
       "      <td>3번고객</td>\n",
       "      <td>희동이</td>\n",
       "      <td>4567</td>\n",
       "      <td>500</td>\n",
       "      <td>우리</td>\n",
       "    </tr>\n",
       "    <tr>\n",
       "      <th>3</th>\n",
       "      <td>4번고객</td>\n",
       "      <td>고길동</td>\n",
       "      <td>7890</td>\n",
       "      <td>50000</td>\n",
       "      <td>신한</td>\n",
       "    </tr>\n",
       "  </tbody>\n",
       "</table>\n",
       "</div>"
      ],
      "text/plain": [
       "  Unnamed: 0   이름  계좌번호     금액  은행\n",
       "0       1번고객  홍길동  1234  10000  국민\n",
       "1       2번고객  도우너  4321    100  하나\n",
       "2       3번고객  희동이  4567    500  우리\n",
       "3       4번고객  고길동  7890  50000  신한"
      ]
     },
     "execution_count": 33,
     "metadata": {},
     "output_type": "execute_result"
    }
   ],
   "source": [
    "df = pd.read_excel('data_4.xlsx')\n",
    "df"
   ]
  },
  {
   "cell_type": "code",
   "execution_count": 34,
   "id": "208fe1c2",
   "metadata": {},
   "outputs": [
    {
     "data": {
      "text/html": [
       "<div>\n",
       "<style scoped>\n",
       "    .dataframe tbody tr th:only-of-type {\n",
       "        vertical-align: middle;\n",
       "    }\n",
       "\n",
       "    .dataframe tbody tr th {\n",
       "        vertical-align: top;\n",
       "    }\n",
       "\n",
       "    .dataframe thead th {\n",
       "        text-align: right;\n",
       "    }\n",
       "</style>\n",
       "<table border=\"1\" class=\"dataframe\">\n",
       "  <thead>\n",
       "    <tr style=\"text-align: right;\">\n",
       "      <th></th>\n",
       "      <th>이름</th>\n",
       "      <th>계좌번호</th>\n",
       "      <th>금액</th>\n",
       "      <th>은행</th>\n",
       "    </tr>\n",
       "  </thead>\n",
       "  <tbody>\n",
       "    <tr>\n",
       "      <th>0</th>\n",
       "      <td>홍길동</td>\n",
       "      <td>1234</td>\n",
       "      <td>10000</td>\n",
       "      <td>국민</td>\n",
       "    </tr>\n",
       "    <tr>\n",
       "      <th>1</th>\n",
       "      <td>도우너</td>\n",
       "      <td>4321</td>\n",
       "      <td>100</td>\n",
       "      <td>하나</td>\n",
       "    </tr>\n",
       "    <tr>\n",
       "      <th>2</th>\n",
       "      <td>희동이</td>\n",
       "      <td>4567</td>\n",
       "      <td>500</td>\n",
       "      <td>우리</td>\n",
       "    </tr>\n",
       "    <tr>\n",
       "      <th>3</th>\n",
       "      <td>고길동</td>\n",
       "      <td>7890</td>\n",
       "      <td>50000</td>\n",
       "      <td>신한</td>\n",
       "    </tr>\n",
       "  </tbody>\n",
       "</table>\n",
       "</div>"
      ],
      "text/plain": [
       "    이름  계좌번호     금액  은행\n",
       "0  홍길동  1234  10000  국민\n",
       "1  도우너  4321    100  하나\n",
       "2  희동이  4567    500  우리\n",
       "3  고길동  7890  50000  신한"
      ]
     },
     "execution_count": 34,
     "metadata": {},
     "output_type": "execute_result"
    }
   ],
   "source": [
    "data = {\n",
    "    '이름' : ['홍길동', '도우너', '희동이', '고길동'],\n",
    "    '계좌번호' : ['1234', '4321', '4567', '7890'],\n",
    "    '금액' : [10000, 100, 500, 50000],\n",
    "    '은행' : ['국민', '하나', '우리', '신한']\n",
    "}\n",
    "\n",
    "df_t = DataFrame(data)\n",
    "\n",
    "df_t"
   ]
  }
 ],
 "metadata": {
  "kernelspec": {
   "display_name": "Python 3 (ipykernel)",
   "language": "python",
   "name": "python3"
  },
  "language_info": {
   "codemirror_mode": {
    "name": "ipython",
    "version": 3
   },
   "file_extension": ".py",
   "mimetype": "text/x-python",
   "name": "python",
   "nbconvert_exporter": "python",
   "pygments_lexer": "ipython3",
   "version": "3.10.9"
  }
 },
 "nbformat": 4,
 "nbformat_minor": 5
}
